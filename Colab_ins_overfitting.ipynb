{
  "cells": [
    {
      "cell_type": "markdown",
      "metadata": {
        "id": "view-in-github",
        "colab_type": "text"
      },
      "source": [
        "<a href=\"https://colab.research.google.com/github/ObyNtech/Neural_network/blob/main/Colab_ins_overfitting.ipynb\" target=\"_parent\"><img src=\"https://colab.research.google.com/assets/colab-badge.svg\" alt=\"Open In Colab\"/></a>"
      ]
    },
    {
      "cell_type": "markdown",
      "id": "4104bbc9",
      "metadata": {
        "id": "4104bbc9"
      },
      "source": [
        "# Overfitting"
      ]
    },
    {
      "cell_type": "code",
      "execution_count": 1,
      "id": "038c919a",
      "metadata": {
        "id": "038c919a"
      },
      "outputs": [],
      "source": [
        "import pandas as pd\n",
        "import numpy as np"
      ]
    },
    {
      "cell_type": "code",
      "execution_count": 2,
      "id": "292c574b",
      "metadata": {
        "id": "292c574b"
      },
      "outputs": [],
      "source": [
        "from keras.models import Sequential\n",
        "from keras.layers import Dense, Activation"
      ]
    },
    {
      "cell_type": "code",
      "source": [
        "from google.colab import files\n",
        "uploaded = files.upload()"
      ],
      "metadata": {
        "colab": {
          "base_uri": "https://localhost:8080/",
          "height": 72
        },
        "id": "vTKA8oS5whUP",
        "outputId": "2ec788c1-75e5-4d3a-c1a4-0f769f556aca"
      },
      "id": "vTKA8oS5whUP",
      "execution_count": 3,
      "outputs": [
        {
          "output_type": "display_data",
          "data": {
            "text/plain": [
              "<IPython.core.display.HTML object>"
            ],
            "text/html": [
              "\n",
              "     <input type=\"file\" id=\"files-e1861d5d-c890-43ee-942a-ffa75b377118\" name=\"files[]\" multiple disabled\n",
              "        style=\"border:none\" />\n",
              "     <output id=\"result-e1861d5d-c890-43ee-942a-ffa75b377118\">\n",
              "      Upload widget is only available when the cell has been executed in the\n",
              "      current browser session. Please rerun this cell to enable.\n",
              "      </output>\n",
              "      <script>// Copyright 2017 Google LLC\n",
              "//\n",
              "// Licensed under the Apache License, Version 2.0 (the \"License\");\n",
              "// you may not use this file except in compliance with the License.\n",
              "// You may obtain a copy of the License at\n",
              "//\n",
              "//      http://www.apache.org/licenses/LICENSE-2.0\n",
              "//\n",
              "// Unless required by applicable law or agreed to in writing, software\n",
              "// distributed under the License is distributed on an \"AS IS\" BASIS,\n",
              "// WITHOUT WARRANTIES OR CONDITIONS OF ANY KIND, either express or implied.\n",
              "// See the License for the specific language governing permissions and\n",
              "// limitations under the License.\n",
              "\n",
              "/**\n",
              " * @fileoverview Helpers for google.colab Python module.\n",
              " */\n",
              "(function(scope) {\n",
              "function span(text, styleAttributes = {}) {\n",
              "  const element = document.createElement('span');\n",
              "  element.textContent = text;\n",
              "  for (const key of Object.keys(styleAttributes)) {\n",
              "    element.style[key] = styleAttributes[key];\n",
              "  }\n",
              "  return element;\n",
              "}\n",
              "\n",
              "// Max number of bytes which will be uploaded at a time.\n",
              "const MAX_PAYLOAD_SIZE = 100 * 1024;\n",
              "\n",
              "function _uploadFiles(inputId, outputId) {\n",
              "  const steps = uploadFilesStep(inputId, outputId);\n",
              "  const outputElement = document.getElementById(outputId);\n",
              "  // Cache steps on the outputElement to make it available for the next call\n",
              "  // to uploadFilesContinue from Python.\n",
              "  outputElement.steps = steps;\n",
              "\n",
              "  return _uploadFilesContinue(outputId);\n",
              "}\n",
              "\n",
              "// This is roughly an async generator (not supported in the browser yet),\n",
              "// where there are multiple asynchronous steps and the Python side is going\n",
              "// to poll for completion of each step.\n",
              "// This uses a Promise to block the python side on completion of each step,\n",
              "// then passes the result of the previous step as the input to the next step.\n",
              "function _uploadFilesContinue(outputId) {\n",
              "  const outputElement = document.getElementById(outputId);\n",
              "  const steps = outputElement.steps;\n",
              "\n",
              "  const next = steps.next(outputElement.lastPromiseValue);\n",
              "  return Promise.resolve(next.value.promise).then((value) => {\n",
              "    // Cache the last promise value to make it available to the next\n",
              "    // step of the generator.\n",
              "    outputElement.lastPromiseValue = value;\n",
              "    return next.value.response;\n",
              "  });\n",
              "}\n",
              "\n",
              "/**\n",
              " * Generator function which is called between each async step of the upload\n",
              " * process.\n",
              " * @param {string} inputId Element ID of the input file picker element.\n",
              " * @param {string} outputId Element ID of the output display.\n",
              " * @return {!Iterable<!Object>} Iterable of next steps.\n",
              " */\n",
              "function* uploadFilesStep(inputId, outputId) {\n",
              "  const inputElement = document.getElementById(inputId);\n",
              "  inputElement.disabled = false;\n",
              "\n",
              "  const outputElement = document.getElementById(outputId);\n",
              "  outputElement.innerHTML = '';\n",
              "\n",
              "  const pickedPromise = new Promise((resolve) => {\n",
              "    inputElement.addEventListener('change', (e) => {\n",
              "      resolve(e.target.files);\n",
              "    });\n",
              "  });\n",
              "\n",
              "  const cancel = document.createElement('button');\n",
              "  inputElement.parentElement.appendChild(cancel);\n",
              "  cancel.textContent = 'Cancel upload';\n",
              "  const cancelPromise = new Promise((resolve) => {\n",
              "    cancel.onclick = () => {\n",
              "      resolve(null);\n",
              "    };\n",
              "  });\n",
              "\n",
              "  // Wait for the user to pick the files.\n",
              "  const files = yield {\n",
              "    promise: Promise.race([pickedPromise, cancelPromise]),\n",
              "    response: {\n",
              "      action: 'starting',\n",
              "    }\n",
              "  };\n",
              "\n",
              "  cancel.remove();\n",
              "\n",
              "  // Disable the input element since further picks are not allowed.\n",
              "  inputElement.disabled = true;\n",
              "\n",
              "  if (!files) {\n",
              "    return {\n",
              "      response: {\n",
              "        action: 'complete',\n",
              "      }\n",
              "    };\n",
              "  }\n",
              "\n",
              "  for (const file of files) {\n",
              "    const li = document.createElement('li');\n",
              "    li.append(span(file.name, {fontWeight: 'bold'}));\n",
              "    li.append(span(\n",
              "        `(${file.type || 'n/a'}) - ${file.size} bytes, ` +\n",
              "        `last modified: ${\n",
              "            file.lastModifiedDate ? file.lastModifiedDate.toLocaleDateString() :\n",
              "                                    'n/a'} - `));\n",
              "    const percent = span('0% done');\n",
              "    li.appendChild(percent);\n",
              "\n",
              "    outputElement.appendChild(li);\n",
              "\n",
              "    const fileDataPromise = new Promise((resolve) => {\n",
              "      const reader = new FileReader();\n",
              "      reader.onload = (e) => {\n",
              "        resolve(e.target.result);\n",
              "      };\n",
              "      reader.readAsArrayBuffer(file);\n",
              "    });\n",
              "    // Wait for the data to be ready.\n",
              "    let fileData = yield {\n",
              "      promise: fileDataPromise,\n",
              "      response: {\n",
              "        action: 'continue',\n",
              "      }\n",
              "    };\n",
              "\n",
              "    // Use a chunked sending to avoid message size limits. See b/62115660.\n",
              "    let position = 0;\n",
              "    do {\n",
              "      const length = Math.min(fileData.byteLength - position, MAX_PAYLOAD_SIZE);\n",
              "      const chunk = new Uint8Array(fileData, position, length);\n",
              "      position += length;\n",
              "\n",
              "      const base64 = btoa(String.fromCharCode.apply(null, chunk));\n",
              "      yield {\n",
              "        response: {\n",
              "          action: 'append',\n",
              "          file: file.name,\n",
              "          data: base64,\n",
              "        },\n",
              "      };\n",
              "\n",
              "      let percentDone = fileData.byteLength === 0 ?\n",
              "          100 :\n",
              "          Math.round((position / fileData.byteLength) * 100);\n",
              "      percent.textContent = `${percentDone}% done`;\n",
              "\n",
              "    } while (position < fileData.byteLength);\n",
              "  }\n",
              "\n",
              "  // All done.\n",
              "  yield {\n",
              "    response: {\n",
              "      action: 'complete',\n",
              "    }\n",
              "  };\n",
              "}\n",
              "\n",
              "scope.google = scope.google || {};\n",
              "scope.google.colab = scope.google.colab || {};\n",
              "scope.google.colab._files = {\n",
              "  _uploadFiles,\n",
              "  _uploadFilesContinue,\n",
              "};\n",
              "})(self);\n",
              "</script> "
            ]
          },
          "metadata": {}
        },
        {
          "output_type": "stream",
          "name": "stdout",
          "text": [
            "Saving meet_or_beat.csv to meet_or_beat.csv\n"
          ]
        }
      ]
    },
    {
      "cell_type": "code",
      "execution_count": 4,
      "id": "322048df",
      "metadata": {
        "id": "322048df"
      },
      "outputs": [],
      "source": [
        "df = pd.read_csv('meet_or_beat.csv')"
      ]
    },
    {
      "cell_type": "markdown",
      "id": "c8e6b8ab",
      "metadata": {
        "id": "c8e6b8ab"
      },
      "source": [
        "### Preparing the Data"
      ]
    },
    {
      "cell_type": "code",
      "execution_count": 6,
      "id": "f5765905",
      "metadata": {
        "colab": {
          "base_uri": "https://localhost:8080/"
        },
        "id": "f5765905",
        "outputId": "8c869af3-dbfc-4ebd-f363-6369d206deb1"
      },
      "outputs": [
        {
          "output_type": "execute_result",
          "data": {
            "text/plain": [
              "2    14676\n",
              "1    14555\n",
              "5    14268\n",
              "4    14251\n",
              "3    14218\n",
              "Name: earnings_quantile, dtype: int64"
            ]
          },
          "metadata": {},
          "execution_count": 6
        }
      ],
      "source": [
        "# Use qcut to group earnings results into 5 buckets\n",
        "# this is deiving the eps to 5 catergories\n",
        "df['earnings_quantile'] = (pd.qcut(df['EPS'], q=5, labels=False))+1\n",
        "# Verify buckets are approximately balanced\n",
        "# (Slight imbalance from ties is OK)\n",
        "df['earnings_quantile'].value_counts()"
      ]
    },
    {
      "cell_type": "code",
      "execution_count": 17,
      "id": "e029a4ce",
      "metadata": {
        "id": "e029a4ce",
        "colab": {
          "base_uri": "https://localhost:8080/",
          "height": 206
        },
        "outputId": "52248559-e00f-4e69-accb-b867b490d994"
      },
      "outputs": [
        {
          "output_type": "execute_result",
          "data": {
            "text/plain": [
              "    EPS  forecasted_eps  noOfEsts  after_total_returns  before_total_returns  \\\n",
              "0  2.01            1.67      11.0             0.051444              0.018585   \n",
              "1  0.17            0.19       6.0             0.112955             -0.000510   \n",
              "2 -0.07            0.14       4.0             0.077167             -0.046104   \n",
              "3  0.48            0.51       8.0            -0.006130             -0.004899   \n",
              "4 -0.24           -0.27       9.0             0.089762             -0.025466   \n",
              "\n",
              "   earnings_quantile  \n",
              "0                  5  \n",
              "1                  3  \n",
              "2                  2  \n",
              "3                  4  \n",
              "4                  1  "
            ],
            "text/html": [
              "\n",
              "\n",
              "  <div id=\"df-df8e6365-782f-4746-b787-6c6354ffa7e8\">\n",
              "    <div class=\"colab-df-container\">\n",
              "      <div>\n",
              "<style scoped>\n",
              "    .dataframe tbody tr th:only-of-type {\n",
              "        vertical-align: middle;\n",
              "    }\n",
              "\n",
              "    .dataframe tbody tr th {\n",
              "        vertical-align: top;\n",
              "    }\n",
              "\n",
              "    .dataframe thead th {\n",
              "        text-align: right;\n",
              "    }\n",
              "</style>\n",
              "<table border=\"1\" class=\"dataframe\">\n",
              "  <thead>\n",
              "    <tr style=\"text-align: right;\">\n",
              "      <th></th>\n",
              "      <th>EPS</th>\n",
              "      <th>forecasted_eps</th>\n",
              "      <th>noOfEsts</th>\n",
              "      <th>after_total_returns</th>\n",
              "      <th>before_total_returns</th>\n",
              "      <th>earnings_quantile</th>\n",
              "    </tr>\n",
              "  </thead>\n",
              "  <tbody>\n",
              "    <tr>\n",
              "      <th>0</th>\n",
              "      <td>2.01</td>\n",
              "      <td>1.67</td>\n",
              "      <td>11.0</td>\n",
              "      <td>0.051444</td>\n",
              "      <td>0.018585</td>\n",
              "      <td>5</td>\n",
              "    </tr>\n",
              "    <tr>\n",
              "      <th>1</th>\n",
              "      <td>0.17</td>\n",
              "      <td>0.19</td>\n",
              "      <td>6.0</td>\n",
              "      <td>0.112955</td>\n",
              "      <td>-0.000510</td>\n",
              "      <td>3</td>\n",
              "    </tr>\n",
              "    <tr>\n",
              "      <th>2</th>\n",
              "      <td>-0.07</td>\n",
              "      <td>0.14</td>\n",
              "      <td>4.0</td>\n",
              "      <td>0.077167</td>\n",
              "      <td>-0.046104</td>\n",
              "      <td>2</td>\n",
              "    </tr>\n",
              "    <tr>\n",
              "      <th>3</th>\n",
              "      <td>0.48</td>\n",
              "      <td>0.51</td>\n",
              "      <td>8.0</td>\n",
              "      <td>-0.006130</td>\n",
              "      <td>-0.004899</td>\n",
              "      <td>4</td>\n",
              "    </tr>\n",
              "    <tr>\n",
              "      <th>4</th>\n",
              "      <td>-0.24</td>\n",
              "      <td>-0.27</td>\n",
              "      <td>9.0</td>\n",
              "      <td>0.089762</td>\n",
              "      <td>-0.025466</td>\n",
              "      <td>1</td>\n",
              "    </tr>\n",
              "  </tbody>\n",
              "</table>\n",
              "</div>\n",
              "      <button class=\"colab-df-convert\" onclick=\"convertToInteractive('df-df8e6365-782f-4746-b787-6c6354ffa7e8')\"\n",
              "              title=\"Convert this dataframe to an interactive table.\"\n",
              "              style=\"display:none;\">\n",
              "\n",
              "  <svg xmlns=\"http://www.w3.org/2000/svg\" height=\"24px\"viewBox=\"0 0 24 24\"\n",
              "       width=\"24px\">\n",
              "    <path d=\"M0 0h24v24H0V0z\" fill=\"none\"/>\n",
              "    <path d=\"M18.56 5.44l.94 2.06.94-2.06 2.06-.94-2.06-.94-.94-2.06-.94 2.06-2.06.94zm-11 1L8.5 8.5l.94-2.06 2.06-.94-2.06-.94L8.5 2.5l-.94 2.06-2.06.94zm10 10l.94 2.06.94-2.06 2.06-.94-2.06-.94-.94-2.06-.94 2.06-2.06.94z\"/><path d=\"M17.41 7.96l-1.37-1.37c-.4-.4-.92-.59-1.43-.59-.52 0-1.04.2-1.43.59L10.3 9.45l-7.72 7.72c-.78.78-.78 2.05 0 2.83L4 21.41c.39.39.9.59 1.41.59.51 0 1.02-.2 1.41-.59l7.78-7.78 2.81-2.81c.8-.78.8-2.07 0-2.86zM5.41 20L4 18.59l7.72-7.72 1.47 1.35L5.41 20z\"/>\n",
              "  </svg>\n",
              "      </button>\n",
              "\n",
              "\n",
              "\n",
              "    <div id=\"df-4ee142d4-996d-4adc-919c-04f0df1ed612\">\n",
              "      <button class=\"colab-df-quickchart\" onclick=\"quickchart('df-4ee142d4-996d-4adc-919c-04f0df1ed612')\"\n",
              "              title=\"Suggest charts.\"\n",
              "              style=\"display:none;\">\n",
              "\n",
              "<svg xmlns=\"http://www.w3.org/2000/svg\" height=\"24px\"viewBox=\"0 0 24 24\"\n",
              "     width=\"24px\">\n",
              "    <g>\n",
              "        <path d=\"M19 3H5c-1.1 0-2 .9-2 2v14c0 1.1.9 2 2 2h14c1.1 0 2-.9 2-2V5c0-1.1-.9-2-2-2zM9 17H7v-7h2v7zm4 0h-2V7h2v10zm4 0h-2v-4h2v4z\"/>\n",
              "    </g>\n",
              "</svg>\n",
              "      </button>\n",
              "    </div>\n",
              "\n",
              "<style>\n",
              "  .colab-df-quickchart {\n",
              "    background-color: #E8F0FE;\n",
              "    border: none;\n",
              "    border-radius: 50%;\n",
              "    cursor: pointer;\n",
              "    display: none;\n",
              "    fill: #1967D2;\n",
              "    height: 32px;\n",
              "    padding: 0 0 0 0;\n",
              "    width: 32px;\n",
              "  }\n",
              "\n",
              "  .colab-df-quickchart:hover {\n",
              "    background-color: #E2EBFA;\n",
              "    box-shadow: 0px 1px 2px rgba(60, 64, 67, 0.3), 0px 1px 3px 1px rgba(60, 64, 67, 0.15);\n",
              "    fill: #174EA6;\n",
              "  }\n",
              "\n",
              "  [theme=dark] .colab-df-quickchart {\n",
              "    background-color: #3B4455;\n",
              "    fill: #D2E3FC;\n",
              "  }\n",
              "\n",
              "  [theme=dark] .colab-df-quickchart:hover {\n",
              "    background-color: #434B5C;\n",
              "    box-shadow: 0px 1px 3px 1px rgba(0, 0, 0, 0.15);\n",
              "    filter: drop-shadow(0px 1px 2px rgba(0, 0, 0, 0.3));\n",
              "    fill: #FFFFFF;\n",
              "  }\n",
              "</style>\n",
              "\n",
              "    <script>\n",
              "      async function quickchart(key) {\n",
              "        const containerElement = document.querySelector('#' + key);\n",
              "        const charts = await google.colab.kernel.invokeFunction(\n",
              "            'suggestCharts', [key], {});\n",
              "      }\n",
              "    </script>\n",
              "\n",
              "      <script>\n",
              "\n",
              "function displayQuickchartButton(domScope) {\n",
              "  let quickchartButtonEl =\n",
              "    domScope.querySelector('#df-4ee142d4-996d-4adc-919c-04f0df1ed612 button.colab-df-quickchart');\n",
              "  quickchartButtonEl.style.display =\n",
              "    google.colab.kernel.accessAllowed ? 'block' : 'none';\n",
              "}\n",
              "\n",
              "        displayQuickchartButton(document);\n",
              "      </script>\n",
              "      <style>\n",
              "    .colab-df-container {\n",
              "      display:flex;\n",
              "      flex-wrap:wrap;\n",
              "      gap: 12px;\n",
              "    }\n",
              "\n",
              "    .colab-df-convert {\n",
              "      background-color: #E8F0FE;\n",
              "      border: none;\n",
              "      border-radius: 50%;\n",
              "      cursor: pointer;\n",
              "      display: none;\n",
              "      fill: #1967D2;\n",
              "      height: 32px;\n",
              "      padding: 0 0 0 0;\n",
              "      width: 32px;\n",
              "    }\n",
              "\n",
              "    .colab-df-convert:hover {\n",
              "      background-color: #E2EBFA;\n",
              "      box-shadow: 0px 1px 2px rgba(60, 64, 67, 0.3), 0px 1px 3px 1px rgba(60, 64, 67, 0.15);\n",
              "      fill: #174EA6;\n",
              "    }\n",
              "\n",
              "    [theme=dark] .colab-df-convert {\n",
              "      background-color: #3B4455;\n",
              "      fill: #D2E3FC;\n",
              "    }\n",
              "\n",
              "    [theme=dark] .colab-df-convert:hover {\n",
              "      background-color: #434B5C;\n",
              "      box-shadow: 0px 1px 3px 1px rgba(0, 0, 0, 0.15);\n",
              "      filter: drop-shadow(0px 1px 2px rgba(0, 0, 0, 0.3));\n",
              "      fill: #FFFFFF;\n",
              "    }\n",
              "  </style>\n",
              "\n",
              "      <script>\n",
              "        const buttonEl =\n",
              "          document.querySelector('#df-df8e6365-782f-4746-b787-6c6354ffa7e8 button.colab-df-convert');\n",
              "        buttonEl.style.display =\n",
              "          google.colab.kernel.accessAllowed ? 'block' : 'none';\n",
              "\n",
              "        async function convertToInteractive(key) {\n",
              "          const element = document.querySelector('#df-df8e6365-782f-4746-b787-6c6354ffa7e8');\n",
              "          const dataTable =\n",
              "            await google.colab.kernel.invokeFunction('convertToInteractive',\n",
              "                                                     [key], {});\n",
              "          if (!dataTable) return;\n",
              "\n",
              "          const docLinkHtml = 'Like what you see? Visit the ' +\n",
              "            '<a target=\"_blank\" href=https://colab.research.google.com/notebooks/data_table.ipynb>data table notebook</a>'\n",
              "            + ' to learn more about interactive tables.';\n",
              "          element.innerHTML = '';\n",
              "          dataTable['output_type'] = 'display_data';\n",
              "          await google.colab.output.renderOutput(dataTable, element);\n",
              "          const docLink = document.createElement('div');\n",
              "          docLink.innerHTML = docLinkHtml;\n",
              "          element.appendChild(docLink);\n",
              "        }\n",
              "      </script>\n",
              "    </div>\n",
              "  </div>\n"
            ]
          },
          "metadata": {},
          "execution_count": 17
        }
      ],
      "source": [
        "# Save bucket (\"quantile\") value as the new  `y` variable\n",
        "y_quantile = df['earnings_quantile']\n",
        "set(df['earnings_quantile'])\n",
        "df.head()"
      ]
    },
    {
      "cell_type": "code",
      "execution_count": 10,
      "id": "56854242",
      "metadata": {
        "id": "56854242"
      },
      "outputs": [],
      "source": [
        "# Save the unique count of categories for later use\n",
        "number_of_classes = len(y_quantile.unique())"
      ]
    },
    {
      "cell_type": "code",
      "execution_count": 11,
      "id": "b225898d",
      "metadata": {
        "colab": {
          "base_uri": "https://localhost:8080/"
        },
        "id": "b225898d",
        "outputId": "3fd12401-69b3-4904-edb6-6dcb91c71aa8"
      },
      "outputs": [
        {
          "output_type": "execute_result",
          "data": {
            "text/plain": [
              "array([4, 2, 1, ..., 2, 1, 0])"
            ]
          },
          "metadata": {},
          "execution_count": 11
        }
      ],
      "source": [
        "# Encode quantiles into labels\n",
        "from sklearn.preprocessing import LabelEncoder\n",
        "encoder = LabelEncoder()\n",
        "encoder.fit(y_quantile)\n",
        "encoded_y = encoder.transform(y_quantile)\n",
        "encoded_y"
      ]
    },
    {
      "cell_type": "code",
      "execution_count": 12,
      "id": "fa4a563f",
      "metadata": {
        "id": "fa4a563f"
      },
      "outputs": [],
      "source": [
        "# Encode labels into categories\n",
        "from keras.utils.np_utils import to_categorical\n",
        "y_categorical = to_categorical(encoded_y, num_classes=number_of_classes)"
      ]
    },
    {
      "cell_type": "code",
      "execution_count": 13,
      "id": "f1219ca4",
      "metadata": {
        "colab": {
          "base_uri": "https://localhost:8080/",
          "height": 143
        },
        "id": "f1219ca4",
        "outputId": "91d22e2e-7b9f-4659-8701-426dbc460d2e"
      },
      "outputs": [
        {
          "output_type": "execute_result",
          "data": {
            "text/plain": [
              "   forecasted_eps  before_total_returns  noOfEsts\n",
              "0            1.67              0.018585      11.0\n",
              "1            0.19             -0.000510       6.0\n",
              "2            0.14             -0.046104       4.0"
            ],
            "text/html": [
              "\n",
              "\n",
              "  <div id=\"df-8c8baf1c-204d-4c77-bb64-56129790035f\">\n",
              "    <div class=\"colab-df-container\">\n",
              "      <div>\n",
              "<style scoped>\n",
              "    .dataframe tbody tr th:only-of-type {\n",
              "        vertical-align: middle;\n",
              "    }\n",
              "\n",
              "    .dataframe tbody tr th {\n",
              "        vertical-align: top;\n",
              "    }\n",
              "\n",
              "    .dataframe thead th {\n",
              "        text-align: right;\n",
              "    }\n",
              "</style>\n",
              "<table border=\"1\" class=\"dataframe\">\n",
              "  <thead>\n",
              "    <tr style=\"text-align: right;\">\n",
              "      <th></th>\n",
              "      <th>forecasted_eps</th>\n",
              "      <th>before_total_returns</th>\n",
              "      <th>noOfEsts</th>\n",
              "    </tr>\n",
              "  </thead>\n",
              "  <tbody>\n",
              "    <tr>\n",
              "      <th>0</th>\n",
              "      <td>1.67</td>\n",
              "      <td>0.018585</td>\n",
              "      <td>11.0</td>\n",
              "    </tr>\n",
              "    <tr>\n",
              "      <th>1</th>\n",
              "      <td>0.19</td>\n",
              "      <td>-0.000510</td>\n",
              "      <td>6.0</td>\n",
              "    </tr>\n",
              "    <tr>\n",
              "      <th>2</th>\n",
              "      <td>0.14</td>\n",
              "      <td>-0.046104</td>\n",
              "      <td>4.0</td>\n",
              "    </tr>\n",
              "  </tbody>\n",
              "</table>\n",
              "</div>\n",
              "      <button class=\"colab-df-convert\" onclick=\"convertToInteractive('df-8c8baf1c-204d-4c77-bb64-56129790035f')\"\n",
              "              title=\"Convert this dataframe to an interactive table.\"\n",
              "              style=\"display:none;\">\n",
              "\n",
              "  <svg xmlns=\"http://www.w3.org/2000/svg\" height=\"24px\"viewBox=\"0 0 24 24\"\n",
              "       width=\"24px\">\n",
              "    <path d=\"M0 0h24v24H0V0z\" fill=\"none\"/>\n",
              "    <path d=\"M18.56 5.44l.94 2.06.94-2.06 2.06-.94-2.06-.94-.94-2.06-.94 2.06-2.06.94zm-11 1L8.5 8.5l.94-2.06 2.06-.94-2.06-.94L8.5 2.5l-.94 2.06-2.06.94zm10 10l.94 2.06.94-2.06 2.06-.94-2.06-.94-.94-2.06-.94 2.06-2.06.94z\"/><path d=\"M17.41 7.96l-1.37-1.37c-.4-.4-.92-.59-1.43-.59-.52 0-1.04.2-1.43.59L10.3 9.45l-7.72 7.72c-.78.78-.78 2.05 0 2.83L4 21.41c.39.39.9.59 1.41.59.51 0 1.02-.2 1.41-.59l7.78-7.78 2.81-2.81c.8-.78.8-2.07 0-2.86zM5.41 20L4 18.59l7.72-7.72 1.47 1.35L5.41 20z\"/>\n",
              "  </svg>\n",
              "      </button>\n",
              "\n",
              "\n",
              "\n",
              "    <div id=\"df-1a0f5245-fc13-4440-95bd-7b92069e5c63\">\n",
              "      <button class=\"colab-df-quickchart\" onclick=\"quickchart('df-1a0f5245-fc13-4440-95bd-7b92069e5c63')\"\n",
              "              title=\"Suggest charts.\"\n",
              "              style=\"display:none;\">\n",
              "\n",
              "<svg xmlns=\"http://www.w3.org/2000/svg\" height=\"24px\"viewBox=\"0 0 24 24\"\n",
              "     width=\"24px\">\n",
              "    <g>\n",
              "        <path d=\"M19 3H5c-1.1 0-2 .9-2 2v14c0 1.1.9 2 2 2h14c1.1 0 2-.9 2-2V5c0-1.1-.9-2-2-2zM9 17H7v-7h2v7zm4 0h-2V7h2v10zm4 0h-2v-4h2v4z\"/>\n",
              "    </g>\n",
              "</svg>\n",
              "      </button>\n",
              "    </div>\n",
              "\n",
              "<style>\n",
              "  .colab-df-quickchart {\n",
              "    background-color: #E8F0FE;\n",
              "    border: none;\n",
              "    border-radius: 50%;\n",
              "    cursor: pointer;\n",
              "    display: none;\n",
              "    fill: #1967D2;\n",
              "    height: 32px;\n",
              "    padding: 0 0 0 0;\n",
              "    width: 32px;\n",
              "  }\n",
              "\n",
              "  .colab-df-quickchart:hover {\n",
              "    background-color: #E2EBFA;\n",
              "    box-shadow: 0px 1px 2px rgba(60, 64, 67, 0.3), 0px 1px 3px 1px rgba(60, 64, 67, 0.15);\n",
              "    fill: #174EA6;\n",
              "  }\n",
              "\n",
              "  [theme=dark] .colab-df-quickchart {\n",
              "    background-color: #3B4455;\n",
              "    fill: #D2E3FC;\n",
              "  }\n",
              "\n",
              "  [theme=dark] .colab-df-quickchart:hover {\n",
              "    background-color: #434B5C;\n",
              "    box-shadow: 0px 1px 3px 1px rgba(0, 0, 0, 0.15);\n",
              "    filter: drop-shadow(0px 1px 2px rgba(0, 0, 0, 0.3));\n",
              "    fill: #FFFFFF;\n",
              "  }\n",
              "</style>\n",
              "\n",
              "    <script>\n",
              "      async function quickchart(key) {\n",
              "        const containerElement = document.querySelector('#' + key);\n",
              "        const charts = await google.colab.kernel.invokeFunction(\n",
              "            'suggestCharts', [key], {});\n",
              "      }\n",
              "    </script>\n",
              "\n",
              "      <script>\n",
              "\n",
              "function displayQuickchartButton(domScope) {\n",
              "  let quickchartButtonEl =\n",
              "    domScope.querySelector('#df-1a0f5245-fc13-4440-95bd-7b92069e5c63 button.colab-df-quickchart');\n",
              "  quickchartButtonEl.style.display =\n",
              "    google.colab.kernel.accessAllowed ? 'block' : 'none';\n",
              "}\n",
              "\n",
              "        displayQuickchartButton(document);\n",
              "      </script>\n",
              "      <style>\n",
              "    .colab-df-container {\n",
              "      display:flex;\n",
              "      flex-wrap:wrap;\n",
              "      gap: 12px;\n",
              "    }\n",
              "\n",
              "    .colab-df-convert {\n",
              "      background-color: #E8F0FE;\n",
              "      border: none;\n",
              "      border-radius: 50%;\n",
              "      cursor: pointer;\n",
              "      display: none;\n",
              "      fill: #1967D2;\n",
              "      height: 32px;\n",
              "      padding: 0 0 0 0;\n",
              "      width: 32px;\n",
              "    }\n",
              "\n",
              "    .colab-df-convert:hover {\n",
              "      background-color: #E2EBFA;\n",
              "      box-shadow: 0px 1px 2px rgba(60, 64, 67, 0.3), 0px 1px 3px 1px rgba(60, 64, 67, 0.15);\n",
              "      fill: #174EA6;\n",
              "    }\n",
              "\n",
              "    [theme=dark] .colab-df-convert {\n",
              "      background-color: #3B4455;\n",
              "      fill: #D2E3FC;\n",
              "    }\n",
              "\n",
              "    [theme=dark] .colab-df-convert:hover {\n",
              "      background-color: #434B5C;\n",
              "      box-shadow: 0px 1px 3px 1px rgba(0, 0, 0, 0.15);\n",
              "      filter: drop-shadow(0px 1px 2px rgba(0, 0, 0, 0.3));\n",
              "      fill: #FFFFFF;\n",
              "    }\n",
              "  </style>\n",
              "\n",
              "      <script>\n",
              "        const buttonEl =\n",
              "          document.querySelector('#df-8c8baf1c-204d-4c77-bb64-56129790035f button.colab-df-convert');\n",
              "        buttonEl.style.display =\n",
              "          google.colab.kernel.accessAllowed ? 'block' : 'none';\n",
              "\n",
              "        async function convertToInteractive(key) {\n",
              "          const element = document.querySelector('#df-8c8baf1c-204d-4c77-bb64-56129790035f');\n",
              "          const dataTable =\n",
              "            await google.colab.kernel.invokeFunction('convertToInteractive',\n",
              "                                                     [key], {});\n",
              "          if (!dataTable) return;\n",
              "\n",
              "          const docLinkHtml = 'Like what you see? Visit the ' +\n",
              "            '<a target=\"_blank\" href=https://colab.research.google.com/notebooks/data_table.ipynb>data table notebook</a>'\n",
              "            + ' to learn more about interactive tables.';\n",
              "          element.innerHTML = '';\n",
              "          dataTable['output_type'] = 'display_data';\n",
              "          await google.colab.output.renderOutput(dataTable, element);\n",
              "          const docLink = document.createElement('div');\n",
              "          docLink.innerHTML = docLinkHtml;\n",
              "          element.appendChild(docLink);\n",
              "        }\n",
              "      </script>\n",
              "    </div>\n",
              "  </div>\n"
            ]
          },
          "metadata": {},
          "execution_count": 13
        }
      ],
      "source": [
        "# Specify X (predictor) variables\n",
        "X = df[['forecasted_eps',\n",
        "              'before_total_returns','noOfEsts']]\n",
        "X.head(3)"
      ]
    },
    {
      "cell_type": "code",
      "execution_count": 14,
      "id": "09f6d2b3",
      "metadata": {
        "id": "09f6d2b3"
      },
      "outputs": [],
      "source": [
        "# Split into training and testing windows\n",
        "from sklearn.model_selection import train_test_split\n",
        "X_train, X_test, y_train, y_test = train_test_split(X, y_categorical, random_state=1)"
      ]
    },
    {
      "cell_type": "code",
      "execution_count": 15,
      "id": "047e581e",
      "metadata": {
        "colab": {
          "base_uri": "https://localhost:8080/"
        },
        "id": "047e581e",
        "outputId": "2dd1657c-782b-480e-cc3a-9095ce2783e8"
      },
      "outputs": [
        {
          "output_type": "execute_result",
          "data": {
            "text/plain": [
              "array([[0., 0., 0., 0., 1.],\n",
              "       [0., 0., 0., 1., 0.],\n",
              "       [0., 0., 0., 0., 1.],\n",
              "       ...,\n",
              "       [0., 0., 1., 0., 0.],\n",
              "       [0., 0., 1., 0., 0.],\n",
              "       [0., 0., 0., 1., 0.]], dtype=float32)"
            ]
          },
          "metadata": {},
          "execution_count": 15
        }
      ],
      "source": [
        "# Preview the `y_train` values\n",
        "y_train"
      ]
    },
    {
      "cell_type": "code",
      "execution_count": 18,
      "id": "d8a8314d",
      "metadata": {
        "colab": {
          "base_uri": "https://localhost:8080/"
        },
        "id": "d8a8314d",
        "outputId": "33b212aa-bca3-4bde-83d2-8d80126c6d33"
      },
      "outputs": [
        {
          "output_type": "execute_result",
          "data": {
            "text/plain": [
              "3"
            ]
          },
          "metadata": {},
          "execution_count": 18
        }
      ],
      "source": [
        "# Save the count of unique predictor variables for use in model\n",
        "number_of_predictors = len(X.columns)\n",
        "len(X.columns)"
      ]
    },
    {
      "cell_type": "markdown",
      "id": "a1c124ca",
      "metadata": {
        "id": "a1c124ca"
      },
      "source": [
        "### Building the Model"
      ]
    },
    {
      "cell_type": "code",
      "execution_count": 19,
      "id": "88fff3da",
      "metadata": {
        "id": "88fff3da"
      },
      "outputs": [],
      "source": [
        "# Import the `Dropout` layer\n",
        "from keras.layers import Dropout\n",
        "# Import regularizers\n",
        "from keras.regularizers import l1, l2"
      ]
    },
    {
      "cell_type": "code",
      "execution_count": 20,
      "id": "d3f0702b",
      "metadata": {
        "id": "d3f0702b"
      },
      "outputs": [],
      "source": [
        "# Build the Model\n",
        "model = Sequential()\n",
        "# Add a dense layer (as before)\n",
        "model.add(Dense(10, input_dim=number_of_predictors, activation='relu'))\n",
        "# Now add a dropout layer\n",
        "model.add(Dropout(.2,input_shape=(10,)))\n",
        "# Add regularization to another dense layer\n",
        "model.add(Dense(5, activation='relu', kernel_regularizer=l2(0.01), bias_regularizer=l2(0.01)))"
      ]
    },
    {
      "cell_type": "code",
      "execution_count": 21,
      "id": "2e188acc",
      "metadata": {
        "id": "2e188acc"
      },
      "outputs": [],
      "source": [
        "# Add the final output layer\n",
        "# (Set the # of possible outputs equal to the number classes)\n",
        "model.add(Dense(number_of_classes, activation='softmax'))"
      ]
    },
    {
      "cell_type": "code",
      "execution_count": 22,
      "id": "234f97d9",
      "metadata": {
        "id": "234f97d9"
      },
      "outputs": [],
      "source": [
        "# Compile the model\n",
        "model.compile(loss=\"categorical_crossentropy\",\n",
        "              optimizer= \"adam\",\n",
        "              metrics=['categorical_accuracy'])"
      ]
    },
    {
      "cell_type": "code",
      "execution_count": null,
      "id": "fb552948",
      "metadata": {
        "colab": {
          "base_uri": "https://localhost:8080/"
        },
        "id": "fb552948",
        "outputId": "402708d0-c044-4940-c1b8-fbb144495665"
      },
      "outputs": [
        {
          "output_type": "stream",
          "name": "stdout",
          "text": [
            "Model: \"sequential\"\n",
            "_________________________________________________________________\n",
            " Layer (type)                Output Shape              Param #   \n",
            "=================================================================\n",
            " dense (Dense)               (None, 10)                40        \n",
            "                                                                 \n",
            " dropout (Dropout)           (None, 10)                0         \n",
            "                                                                 \n",
            " dense_1 (Dense)             (None, 5)                 55        \n",
            "                                                                 \n",
            " dense_2 (Dense)             (None, 5)                 30        \n",
            "                                                                 \n",
            "=================================================================\n",
            "Total params: 125\n",
            "Trainable params: 125\n",
            "Non-trainable params: 0\n",
            "_________________________________________________________________\n"
          ]
        }
      ],
      "source": [
        "# Summarise the model\n",
        "model.summary()"
      ]
    },
    {
      "cell_type": "code",
      "execution_count": 23,
      "id": "0cd4bbee",
      "metadata": {
        "colab": {
          "base_uri": "https://localhost:8080/"
        },
        "id": "0cd4bbee",
        "outputId": "9ea22e69-1f29-4f17-fde9-0b6c7cf4f977"
      },
      "outputs": [
        {
          "output_type": "stream",
          "name": "stdout",
          "text": [
            "Epoch 1/50\n",
            "44/44 [==============================] - 2s 9ms/step - loss: 1.7214 - categorical_accuracy: 0.3051 - val_loss: 1.6066 - val_categorical_accuracy: 0.3810\n",
            "Epoch 2/50\n",
            "44/44 [==============================] - 0s 4ms/step - loss: 1.6361 - categorical_accuracy: 0.3189 - val_loss: 1.5566 - val_categorical_accuracy: 0.4331\n",
            "Epoch 3/50\n",
            "44/44 [==============================] - 0s 4ms/step - loss: 1.5734 - categorical_accuracy: 0.3486 - val_loss: 1.5017 - val_categorical_accuracy: 0.4554\n",
            "Epoch 4/50\n",
            "44/44 [==============================] - 0s 5ms/step - loss: 1.5153 - categorical_accuracy: 0.3849 - val_loss: 1.4401 - val_categorical_accuracy: 0.4664\n",
            "Epoch 5/50\n",
            "44/44 [==============================] - 0s 5ms/step - loss: 1.4499 - categorical_accuracy: 0.4181 - val_loss: 1.3700 - val_categorical_accuracy: 0.4628\n",
            "Epoch 6/50\n",
            "44/44 [==============================] - 0s 6ms/step - loss: 1.3805 - categorical_accuracy: 0.4286 - val_loss: 1.3001 - val_categorical_accuracy: 0.4676\n",
            "Epoch 7/50\n",
            "44/44 [==============================] - 0s 6ms/step - loss: 1.3147 - categorical_accuracy: 0.4405 - val_loss: 1.2303 - val_categorical_accuracy: 0.4774\n",
            "Epoch 8/50\n",
            "44/44 [==============================] - 0s 6ms/step - loss: 1.2499 - categorical_accuracy: 0.4662 - val_loss: 1.1701 - val_categorical_accuracy: 0.5205\n",
            "Epoch 9/50\n",
            "44/44 [==============================] - 0s 6ms/step - loss: 1.2000 - categorical_accuracy: 0.4973 - val_loss: 1.1188 - val_categorical_accuracy: 0.5652\n",
            "Epoch 10/50\n",
            "44/44 [==============================] - 0s 6ms/step - loss: 1.1557 - categorical_accuracy: 0.5343 - val_loss: 1.0762 - val_categorical_accuracy: 0.6049\n",
            "Epoch 11/50\n",
            "44/44 [==============================] - 0s 5ms/step - loss: 1.1174 - categorical_accuracy: 0.5636 - val_loss: 1.0398 - val_categorical_accuracy: 0.6353\n",
            "Epoch 12/50\n",
            "44/44 [==============================] - 0s 5ms/step - loss: 1.0862 - categorical_accuracy: 0.5826 - val_loss: 1.0053 - val_categorical_accuracy: 0.6602\n",
            "Epoch 13/50\n",
            "44/44 [==============================] - 0s 6ms/step - loss: 1.0550 - categorical_accuracy: 0.6040 - val_loss: 0.9733 - val_categorical_accuracy: 0.6907\n",
            "Epoch 14/50\n",
            "44/44 [==============================] - 0s 6ms/step - loss: 1.0258 - categorical_accuracy: 0.6292 - val_loss: 0.9466 - val_categorical_accuracy: 0.7099\n",
            "Epoch 15/50\n",
            "44/44 [==============================] - 0s 7ms/step - loss: 1.0060 - categorical_accuracy: 0.6425 - val_loss: 0.9248 - val_categorical_accuracy: 0.7304\n",
            "Epoch 16/50\n",
            "44/44 [==============================] - 0s 4ms/step - loss: 0.9854 - categorical_accuracy: 0.6532 - val_loss: 0.9049 - val_categorical_accuracy: 0.7349\n",
            "Epoch 17/50\n",
            "44/44 [==============================] - 0s 4ms/step - loss: 0.9672 - categorical_accuracy: 0.6655 - val_loss: 0.8886 - val_categorical_accuracy: 0.7571\n",
            "Epoch 18/50\n",
            "44/44 [==============================] - 0s 4ms/step - loss: 0.9521 - categorical_accuracy: 0.6741 - val_loss: 0.8732 - val_categorical_accuracy: 0.7634\n",
            "Epoch 19/50\n",
            "44/44 [==============================] - 0s 4ms/step - loss: 0.9378 - categorical_accuracy: 0.6857 - val_loss: 0.8578 - val_categorical_accuracy: 0.7771\n",
            "Epoch 20/50\n",
            "44/44 [==============================] - 0s 4ms/step - loss: 0.9261 - categorical_accuracy: 0.6909 - val_loss: 0.8457 - val_categorical_accuracy: 0.7840\n",
            "Epoch 21/50\n",
            "44/44 [==============================] - 0s 4ms/step - loss: 0.9130 - categorical_accuracy: 0.6954 - val_loss: 0.8329 - val_categorical_accuracy: 0.7912\n",
            "Epoch 22/50\n",
            "44/44 [==============================] - 0s 4ms/step - loss: 0.8998 - categorical_accuracy: 0.7057 - val_loss: 0.8212 - val_categorical_accuracy: 0.7968\n",
            "Epoch 23/50\n",
            "44/44 [==============================] - 0s 4ms/step - loss: 0.8904 - categorical_accuracy: 0.7066 - val_loss: 0.8108 - val_categorical_accuracy: 0.8032\n",
            "Epoch 24/50\n",
            "44/44 [==============================] - 0s 4ms/step - loss: 0.8846 - categorical_accuracy: 0.7111 - val_loss: 0.8019 - val_categorical_accuracy: 0.8076\n",
            "Epoch 25/50\n",
            "44/44 [==============================] - 0s 4ms/step - loss: 0.8746 - categorical_accuracy: 0.7140 - val_loss: 0.7935 - val_categorical_accuracy: 0.8091\n",
            "Epoch 26/50\n",
            "44/44 [==============================] - 0s 4ms/step - loss: 0.8665 - categorical_accuracy: 0.7150 - val_loss: 0.7848 - val_categorical_accuracy: 0.8137\n",
            "Epoch 27/50\n",
            "44/44 [==============================] - 0s 4ms/step - loss: 0.8600 - categorical_accuracy: 0.7211 - val_loss: 0.7770 - val_categorical_accuracy: 0.8156\n",
            "Epoch 28/50\n",
            "44/44 [==============================] - 0s 4ms/step - loss: 0.8538 - categorical_accuracy: 0.7242 - val_loss: 0.7686 - val_categorical_accuracy: 0.8175\n",
            "Epoch 29/50\n",
            "44/44 [==============================] - 0s 4ms/step - loss: 0.8476 - categorical_accuracy: 0.7250 - val_loss: 0.7637 - val_categorical_accuracy: 0.8226\n",
            "Epoch 30/50\n",
            "44/44 [==============================] - 0s 4ms/step - loss: 0.8415 - categorical_accuracy: 0.7269 - val_loss: 0.7549 - val_categorical_accuracy: 0.8198\n",
            "Epoch 31/50\n",
            "44/44 [==============================] - 0s 4ms/step - loss: 0.8345 - categorical_accuracy: 0.7273 - val_loss: 0.7486 - val_categorical_accuracy: 0.8217\n",
            "Epoch 32/50\n",
            "44/44 [==============================] - 0s 4ms/step - loss: 0.8301 - categorical_accuracy: 0.7296 - val_loss: 0.7425 - val_categorical_accuracy: 0.8233\n",
            "Epoch 33/50\n",
            "44/44 [==============================] - 0s 4ms/step - loss: 0.8250 - categorical_accuracy: 0.7293 - val_loss: 0.7372 - val_categorical_accuracy: 0.8276\n",
            "Epoch 34/50\n",
            "44/44 [==============================] - 0s 4ms/step - loss: 0.8130 - categorical_accuracy: 0.7368 - val_loss: 0.7291 - val_categorical_accuracy: 0.8255\n",
            "Epoch 35/50\n",
            "44/44 [==============================] - 0s 4ms/step - loss: 0.8079 - categorical_accuracy: 0.7415 - val_loss: 0.7234 - val_categorical_accuracy: 0.8274\n",
            "Epoch 36/50\n",
            "44/44 [==============================] - 0s 4ms/step - loss: 0.8034 - categorical_accuracy: 0.7402 - val_loss: 0.7173 - val_categorical_accuracy: 0.8279\n",
            "Epoch 37/50\n",
            "44/44 [==============================] - 0s 5ms/step - loss: 0.7971 - categorical_accuracy: 0.7435 - val_loss: 0.7119 - val_categorical_accuracy: 0.8300\n",
            "Epoch 38/50\n",
            "44/44 [==============================] - 0s 4ms/step - loss: 0.7950 - categorical_accuracy: 0.7416 - val_loss: 0.7071 - val_categorical_accuracy: 0.8294\n",
            "Epoch 39/50\n",
            "44/44 [==============================] - 0s 4ms/step - loss: 0.7912 - categorical_accuracy: 0.7422 - val_loss: 0.7023 - val_categorical_accuracy: 0.8309\n",
            "Epoch 40/50\n",
            "44/44 [==============================] - 0s 4ms/step - loss: 0.7849 - categorical_accuracy: 0.7469 - val_loss: 0.6977 - val_categorical_accuracy: 0.8273\n",
            "Epoch 41/50\n",
            "44/44 [==============================] - 0s 4ms/step - loss: 0.7831 - categorical_accuracy: 0.7423 - val_loss: 0.6919 - val_categorical_accuracy: 0.8298\n",
            "Epoch 42/50\n",
            "44/44 [==============================] - 0s 4ms/step - loss: 0.7800 - categorical_accuracy: 0.7434 - val_loss: 0.6884 - val_categorical_accuracy: 0.8315\n",
            "Epoch 43/50\n",
            "44/44 [==============================] - 0s 4ms/step - loss: 0.7717 - categorical_accuracy: 0.7457 - val_loss: 0.6836 - val_categorical_accuracy: 0.8326\n",
            "Epoch 44/50\n",
            "44/44 [==============================] - 0s 4ms/step - loss: 0.7718 - categorical_accuracy: 0.7479 - val_loss: 0.6803 - val_categorical_accuracy: 0.8350\n",
            "Epoch 45/50\n",
            "44/44 [==============================] - 0s 4ms/step - loss: 0.7695 - categorical_accuracy: 0.7485 - val_loss: 0.6763 - val_categorical_accuracy: 0.8322\n",
            "Epoch 46/50\n",
            "44/44 [==============================] - 0s 5ms/step - loss: 0.7613 - categorical_accuracy: 0.7507 - val_loss: 0.6714 - val_categorical_accuracy: 0.8337\n",
            "Epoch 47/50\n",
            "44/44 [==============================] - 0s 4ms/step - loss: 0.7617 - categorical_accuracy: 0.7497 - val_loss: 0.6683 - val_categorical_accuracy: 0.8348\n",
            "Epoch 48/50\n",
            "44/44 [==============================] - 0s 4ms/step - loss: 0.7550 - categorical_accuracy: 0.7535 - val_loss: 0.6638 - val_categorical_accuracy: 0.8347\n",
            "Epoch 49/50\n",
            "44/44 [==============================] - 0s 5ms/step - loss: 0.7547 - categorical_accuracy: 0.7495 - val_loss: 0.6606 - val_categorical_accuracy: 0.8323\n",
            "Epoch 50/50\n",
            "44/44 [==============================] - 0s 5ms/step - loss: 0.7520 - categorical_accuracy: 0.7513 - val_loss: 0.6581 - val_categorical_accuracy: 0.8348\n"
          ]
        },
        {
          "output_type": "execute_result",
          "data": {
            "text/plain": [
              "<keras.callbacks.History at 0x7f1517e07460>"
            ]
          },
          "metadata": {},
          "execution_count": 23
        }
      ],
      "source": [
        "# Add in validation loss to select the number of epochs\n",
        "# Fit the model\n",
        "number_of_epochs = 50\n",
        "model.fit(X_train,y_train,\n",
        "                    epochs=number_of_epochs,\n",
        "                    batch_size=1000,\n",
        "                      validation_split=0.2,\n",
        "                    shuffle=True)"
      ]
    },
    {
      "cell_type": "code",
      "execution_count": 24,
      "id": "53b0063a",
      "metadata": {
        "colab": {
          "base_uri": "https://localhost:8080/"
        },
        "id": "53b0063a",
        "outputId": "4536c3ff-487e-4d93-cba3-36df616231e0"
      },
      "outputs": [
        {
          "output_type": "execute_result",
          "data": {
            "text/plain": [
              "dict_keys(['loss', 'categorical_accuracy', 'val_loss', 'val_categorical_accuracy'])"
            ]
          },
          "metadata": {},
          "execution_count": 24
        }
      ],
      "source": [
        "# Save model history across epochs\n",
        "model_history = model.history.history\n",
        "model_history.keys()"
      ]
    },
    {
      "cell_type": "code",
      "execution_count": 25,
      "id": "2124d070",
      "metadata": {
        "colab": {
          "base_uri": "https://localhost:8080/"
        },
        "id": "2124d070",
        "outputId": "71d8aeac-10f1-4206-8d18-e9f82ecde135"
      },
      "outputs": [
        {
          "output_type": "execute_result",
          "data": {
            "text/plain": [
              "[0.30509495735168457,\n",
              " 0.3189207911491394,\n",
              " 0.348587304353714,\n",
              " 0.3849235773086548,\n",
              " 0.4181102216243744,\n",
              " 0.42857804894447327,\n",
              " 0.4404585361480713,\n",
              " 0.4661880433559418,\n",
              " 0.4972672462463379,\n",
              " 0.5342519879341125,\n",
              " 0.5636174082756042,\n",
              " 0.5825845003128052,\n",
              " 0.6040064692497253,\n",
              " 0.6292265057563782,\n",
              " 0.6424733400344849,\n",
              " 0.6532422304153442,\n",
              " 0.6655396223068237,\n",
              " 0.6740851998329163,\n",
              " 0.6856878399848938,\n",
              " 0.6908754110336304,\n",
              " 0.6953913569450378,\n",
              " 0.7056970596313477,\n",
              " 0.7065539360046387,\n",
              " 0.7111162543296814,\n",
              " 0.7140111327171326,\n",
              " 0.7149606347084045,\n",
              " 0.7210977077484131,\n",
              " 0.7241547107696533,\n",
              " 0.7249652743339539,\n",
              " 0.7268874645233154,\n",
              " 0.7272811532020569,\n",
              " 0.7296433448791504,\n",
              " 0.729319155216217,\n",
              " 0.7367531061172485,\n",
              " 0.7415238618850708,\n",
              " 0.7402037978172302,\n",
              " 0.7434923648834229,\n",
              " 0.7416396737098694,\n",
              " 0.7421723008155823,\n",
              " 0.7469198703765869,\n",
              " 0.7423112392425537,\n",
              " 0.7433765530586243,\n",
              " 0.7457387447357178,\n",
              " 0.7479156851768494,\n",
              " 0.7484714984893799,\n",
              " 0.7507410645484924,\n",
              " 0.749652624130249,\n",
              " 0.753520131111145,\n",
              " 0.7495368123054504,\n",
              " 0.7512505650520325]"
            ]
          },
          "metadata": {},
          "execution_count": 25
        }
      ],
      "source": [
        "# View `categorical_accuracy` for the training dataset\n",
        "model_history['categorical_accuracy']"
      ]
    },
    {
      "cell_type": "code",
      "execution_count": 26,
      "id": "3ef4fda4",
      "metadata": {
        "colab": {
          "base_uri": "https://localhost:8080/",
          "height": 469
        },
        "id": "3ef4fda4",
        "outputId": "33778d07-d5a2-4fa1-ad9c-203d353fd5b1"
      },
      "outputs": [
        {
          "output_type": "execute_result",
          "data": {
            "text/plain": [
              "<Axes: title={'center': 'Performance Across Training and Validation'}>"
            ]
          },
          "metadata": {},
          "execution_count": 26
        },
        {
          "output_type": "display_data",
          "data": {
            "text/plain": [
              "<Figure size 640x480 with 1 Axes>"
            ],
            "image/png": "[encoded data removed]"
          },
          "metadata": {}
        }
      ],
      "source": [
        "# Save accuracy for training and validation set across epochs\n",
        "training_results = pd.DataFrame(index=range(1,number_of_epochs+1))\n",
        "training_results['Training'] = model_history['categorical_accuracy']\n",
        "training_results['Validation'] = model_history['val_categorical_accuracy']\n",
        "training_results.plot(title = 'Performance Across Training and Validation')"
      ]
    }
  ],
  "metadata": {
    "kernelspec": {
      "display_name": "Python 3 (ipykernel)",
      "language": "python",
      "name": "python3"
    },
    "language_info": {
      "codemirror_mode": {
        "name": "ipython",
        "version": 3
      },
      "file_extension": ".py",
      "mimetype": "text/x-python",
      "name": "python",
      "nbconvert_exporter": "python",
      "pygments_lexer": "ipython3",
      "version": "3.8.11"
    },
    "colab": {
      "provenance": [],
      "include_colab_link": true
    }
  },
  "nbformat": 4,
  "nbformat_minor": 5
}