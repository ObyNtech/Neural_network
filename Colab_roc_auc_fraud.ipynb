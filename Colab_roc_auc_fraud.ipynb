{
  "cells": [
    {
      "cell_type": "markdown",
      "metadata": {
        "id": "view-in-github",
        "colab_type": "text"
      },
      "source": [
        "<a href=\"https://colab.research.google.com/github/ObyNtech/Neural_network/blob/main/Colab_roc_auc_fraud.ipynb\" target=\"_parent\"><img src=\"https://colab.research.google.com/assets/colab-badge.svg\" alt=\"Open In Colab\"/></a>"
      ]
    },
    {
      "cell_type": "markdown",
      "metadata": {
        "id": "IC1Omm_yx-GN"
      },
      "source": [
        "# Instructor Do: Intro to the ROC Curve and AUC\n",
        "\n",
        "In this activity, students will learn how to measure the performance of a binary classification model by fetching metrics from Keras, as well as plotting and interpreting the ROC curve and AUC."
      ]
    },
    {
      "cell_type": "code",
      "execution_count": 1,
      "metadata": {
        "id": "eJ6F05-qx-GU"
      },
      "outputs": [],
      "source": [
        "# Initial imports\n",
        "import pandas as pd\n",
        "import numpy as np\n",
        "import matplotlib.pyplot as plt\n",
        "import tensorflow as tf\n",
        "\n",
        "%matplotlib inline"
      ]
    },
    {
      "cell_type": "markdown",
      "metadata": {
        "id": "SlwsL6oAx-GV"
      },
      "source": [
        "## The Dataset\n",
        "\n",
        "The data provided for this demo contains anonymous information about `284807` credit card transactions made by European credit cardholders in September 2013.\n",
        "\n",
        "The dataset is going to be used to create a binary classification model using a deep neural network to detect fraudulent transactions. It contains nine numerical variables, which are the result of PCA transformation to protect the confidentiality of credit cardholders. Only the transaction amount can be seen as is.\n",
        "\n",
        "This dataset is an abstract of the file shared by the [Machine Learning Group](http://mlg.ulb.ac.be) of the Université Libre de Bruxelles (ULB)."
      ]
    },
    {
      "cell_type": "code",
      "source": [
        "# Upload the data\n",
        "from google.colab import files\n",
        "uploaded = files.upload()"
      ],
      "metadata": {
        "colab": {
          "base_uri": "https://localhost:8080/",
          "height": 72
        },
        "id": "zCTNKTdryCcE",
        "outputId": "7913634d-fee8-40ee-f5ac-92e48224ee31"
      },
      "execution_count": 2,
      "outputs": [
        {
          "output_type": "display_data",
          "data": {
            "text/plain": [
              "<IPython.core.display.HTML object>"
            ],
            "text/html": [
              "\n",
              "     <input type=\"file\" id=\"files-aec4f366-f737-4759-b5e9-6f6ac5cce0d7\" name=\"files[]\" multiple disabled\n",
              "        style=\"border:none\" />\n",
              "     <output id=\"result-aec4f366-f737-4759-b5e9-6f6ac5cce0d7\">\n",
              "      Upload widget is only available when the cell has been executed in the\n",
              "      current browser session. Please rerun this cell to enable.\n",
              "      </output>\n",
              "      <script>// Copyright 2017 Google LLC\n",
              "//\n",
              "// Licensed under the Apache License, Version 2.0 (the \"License\");\n",
              "// you may not use this file except in compliance with the License.\n",
              "// You may obtain a copy of the License at\n",
              "//\n",
              "//      http://www.apache.org/licenses/LICENSE-2.0\n",
              "//\n",
              "// Unless required by applicable law or agreed to in writing, software\n",
              "// distributed under the License is distributed on an \"AS IS\" BASIS,\n",
              "// WITHOUT WARRANTIES OR CONDITIONS OF ANY KIND, either express or implied.\n",
              "// See the License for the specific language governing permissions and\n",
              "// limitations under the License.\n",
              "\n",
              "/**\n",
              " * @fileoverview Helpers for google.colab Python module.\n",
              " */\n",
              "(function(scope) {\n",
              "function span(text, styleAttributes = {}) {\n",
              "  const element = document.createElement('span');\n",
              "  element.textContent = text;\n",
              "  for (const key of Object.keys(styleAttributes)) {\n",
              "    element.style[key] = styleAttributes[key];\n",
              "  }\n",
              "  return element;\n",
              "}\n",
              "\n",
              "// Max number of bytes which will be uploaded at a time.\n",
              "const MAX_PAYLOAD_SIZE = 100 * 1024;\n",
              "\n",
              "function _uploadFiles(inputId, outputId) {\n",
              "  const steps = uploadFilesStep(inputId, outputId);\n",
              "  const outputElement = document.getElementById(outputId);\n",
              "  // Cache steps on the outputElement to make it available for the next call\n",
              "  // to uploadFilesContinue from Python.\n",
              "  outputElement.steps = steps;\n",
              "\n",
              "  return _uploadFilesContinue(outputId);\n",
              "}\n",
              "\n",
              "// This is roughly an async generator (not supported in the browser yet),\n",
              "// where there are multiple asynchronous steps and the Python side is going\n",
              "// to poll for completion of each step.\n",
              "// This uses a Promise to block the python side on completion of each step,\n",
              "// then passes the result of the previous step as the input to the next step.\n",
              "function _uploadFilesContinue(outputId) {\n",
              "  const outputElement = document.getElementById(outputId);\n",
              "  const steps = outputElement.steps;\n",
              "\n",
              "  const next = steps.next(outputElement.lastPromiseValue);\n",
              "  return Promise.resolve(next.value.promise).then((value) => {\n",
              "    // Cache the last promise value to make it available to the next\n",
              "    // step of the generator.\n",
              "    outputElement.lastPromiseValue = value;\n",
              "    return next.value.response;\n",
              "  });\n",
              "}\n",
              "\n",
              "/**\n",
              " * Generator function which is called between each async step of the upload\n",
              " * process.\n",
              " * @param {string} inputId Element ID of the input file picker element.\n",
              " * @param {string} outputId Element ID of the output display.\n",
              " * @return {!Iterable<!Object>} Iterable of next steps.\n",
              " */\n",
              "function* uploadFilesStep(inputId, outputId) {\n",
              "  const inputElement = document.getElementById(inputId);\n",
              "  inputElement.disabled = false;\n",
              "\n",
              "  const outputElement = document.getElementById(outputId);\n",
              "  outputElement.innerHTML = '';\n",
              "\n",
              "  const pickedPromise = new Promise((resolve) => {\n",
              "    inputElement.addEventListener('change', (e) => {\n",
              "      resolve(e.target.files);\n",
              "    });\n",
              "  });\n",
              "\n",
              "  const cancel = document.createElement('button');\n",
              "  inputElement.parentElement.appendChild(cancel);\n",
              "  cancel.textContent = 'Cancel upload';\n",
              "  const cancelPromise = new Promise((resolve) => {\n",
              "    cancel.onclick = () => {\n",
              "      resolve(null);\n",
              "    };\n",
              "  });\n",
              "\n",
              "  // Wait for the user to pick the files.\n",
              "  const files = yield {\n",
              "    promise: Promise.race([pickedPromise, cancelPromise]),\n",
              "    response: {\n",
              "      action: 'starting',\n",
              "    }\n",
              "  };\n",
              "\n",
              "  cancel.remove();\n",
              "\n",
              "  // Disable the input element since further picks are not allowed.\n",
              "  inputElement.disabled = true;\n",
              "\n",
              "  if (!files) {\n",
              "    return {\n",
              "      response: {\n",
              "        action: 'complete',\n",
              "      }\n",
              "    };\n",
              "  }\n",
              "\n",
              "  for (const file of files) {\n",
              "    const li = document.createElement('li');\n",
              "    li.append(span(file.name, {fontWeight: 'bold'}));\n",
              "    li.append(span(\n",
              "        `(${file.type || 'n/a'}) - ${file.size} bytes, ` +\n",
              "        `last modified: ${\n",
              "            file.lastModifiedDate ? file.lastModifiedDate.toLocaleDateString() :\n",
              "                                    'n/a'} - `));\n",
              "    const percent = span('0% done');\n",
              "    li.appendChild(percent);\n",
              "\n",
              "    outputElement.appendChild(li);\n",
              "\n",
              "    const fileDataPromise = new Promise((resolve) => {\n",
              "      const reader = new FileReader();\n",
              "      reader.onload = (e) => {\n",
              "        resolve(e.target.result);\n",
              "      };\n",
              "      reader.readAsArrayBuffer(file);\n",
              "    });\n",
              "    // Wait for the data to be ready.\n",
              "    let fileData = yield {\n",
              "      promise: fileDataPromise,\n",
              "      response: {\n",
              "        action: 'continue',\n",
              "      }\n",
              "    };\n",
              "\n",
              "    // Use a chunked sending to avoid message size limits. See b/62115660.\n",
              "    let position = 0;\n",
              "    do {\n",
              "      const length = Math.min(fileData.byteLength - position, MAX_PAYLOAD_SIZE);\n",
              "      const chunk = new Uint8Array(fileData, position, length);\n",
              "      position += length;\n",
              "\n",
              "      const base64 = btoa(String.fromCharCode.apply(null, chunk));\n",
              "      yield {\n",
              "        response: {\n",
              "          action: 'append',\n",
              "          file: file.name,\n",
              "          data: base64,\n",
              "        },\n",
              "      };\n",
              "\n",
              "      let percentDone = fileData.byteLength === 0 ?\n",
              "          100 :\n",
              "          Math.round((position / fileData.byteLength) * 100);\n",
              "      percent.textContent = `${percentDone}% done`;\n",
              "\n",
              "    } while (position < fileData.byteLength);\n",
              "  }\n",
              "\n",
              "  // All done.\n",
              "  yield {\n",
              "    response: {\n",
              "      action: 'complete',\n",
              "    }\n",
              "  };\n",
              "}\n",
              "\n",
              "scope.google = scope.google || {};\n",
              "scope.google.colab = scope.google.colab || {};\n",
              "scope.google.colab._files = {\n",
              "  _uploadFiles,\n",
              "  _uploadFilesContinue,\n",
              "};\n",
              "})(self);\n",
              "</script> "
            ]
          },
          "metadata": {}
        },
        {
          "output_type": "stream",
          "name": "stdout",
          "text": [
            "Saving transactions.csv to transactions.csv\n"
          ]
        }
      ]
    },
    {
      "cell_type": "code",
      "execution_count": 3,
      "metadata": {
        "colab": {
          "base_uri": "https://localhost:8080/",
          "height": 206
        },
        "id": "IfFaZQYrx-GV",
        "outputId": "45642b87-a869-48dd-a50f-dab21904d307"
      },
      "outputs": [
        {
          "output_type": "execute_result",
          "data": {
            "text/plain": [
              "         V1        V2        V3        V4        V5        V6        V7  \\\n",
              "0 -1.359807 -0.072781  2.536347  1.378155 -0.338321  0.462388  0.239599   \n",
              "1  1.191857  0.266151  0.166480  0.448154  0.060018 -0.082361 -0.078803   \n",
              "2 -1.358354 -1.340163  1.773209  0.379780 -0.503198  1.800499  0.791461   \n",
              "3 -0.966272 -0.185226  1.792993 -0.863291 -0.010309  1.247203  0.237609   \n",
              "4 -1.158233  0.877737  1.548718  0.403034 -0.407193  0.095921  0.592941   \n",
              "\n",
              "         V8        V9  Amount  Class  \n",
              "0  0.098698  0.363787  149.62      0  \n",
              "1  0.085102 -0.255425    2.69      0  \n",
              "2  0.247676 -1.514654  378.66      0  \n",
              "3  0.377436 -1.387024  123.50      0  \n",
              "4 -0.270533  0.817739   69.99      0  "
            ],
            "text/html": [
              "\n",
              "\n",
              "  <div id=\"df-c574f7ab-7b23-4be4-8e61-07f1e72c3a60\">\n",
              "    <div class=\"colab-df-container\">\n",
              "      <div>\n",
              "<style scoped>\n",
              "    .dataframe tbody tr th:only-of-type {\n",
              "        vertical-align: middle;\n",
              "    }\n",
              "\n",
              "    .dataframe tbody tr th {\n",
              "        vertical-align: top;\n",
              "    }\n",
              "\n",
              "    .dataframe thead th {\n",
              "        text-align: right;\n",
              "    }\n",
              "</style>\n",
              "<table border=\"1\" class=\"dataframe\">\n",
              "  <thead>\n",
              "    <tr style=\"text-align: right;\">\n",
              "      <th></th>\n",
              "      <th>V1</th>\n",
              "      <th>V2</th>\n",
              "      <th>V3</th>\n",
              "      <th>V4</th>\n",
              "      <th>V5</th>\n",
              "      <th>V6</th>\n",
              "      <th>V7</th>\n",
              "      <th>V8</th>\n",
              "      <th>V9</th>\n",
              "      <th>Amount</th>\n",
              "      <th>Class</th>\n",
              "    </tr>\n",
              "  </thead>\n",
              "  <tbody>\n",
              "    <tr>\n",
              "      <th>0</th>\n",
              "      <td>-1.359807</td>\n",
              "      <td>-0.072781</td>\n",
              "      <td>2.536347</td>\n",
              "      <td>1.378155</td>\n",
              "      <td>-0.338321</td>\n",
              "      <td>0.462388</td>\n",
              "      <td>0.239599</td>\n",
              "      <td>0.098698</td>\n",
              "      <td>0.363787</td>\n",
              "      <td>149.62</td>\n",
              "      <td>0</td>\n",
              "    </tr>\n",
              "    <tr>\n",
              "      <th>1</th>\n",
              "      <td>1.191857</td>\n",
              "      <td>0.266151</td>\n",
              "      <td>0.166480</td>\n",
              "      <td>0.448154</td>\n",
              "      <td>0.060018</td>\n",
              "      <td>-0.082361</td>\n",
              "      <td>-0.078803</td>\n",
              "      <td>0.085102</td>\n",
              "      <td>-0.255425</td>\n",
              "      <td>2.69</td>\n",
              "      <td>0</td>\n",
              "    </tr>\n",
              "    <tr>\n",
              "      <th>2</th>\n",
              "      <td>-1.358354</td>\n",
              "      <td>-1.340163</td>\n",
              "      <td>1.773209</td>\n",
              "      <td>0.379780</td>\n",
              "      <td>-0.503198</td>\n",
              "      <td>1.800499</td>\n",
              "      <td>0.791461</td>\n",
              "      <td>0.247676</td>\n",
              "      <td>-1.514654</td>\n",
              "      <td>378.66</td>\n",
              "      <td>0</td>\n",
              "    </tr>\n",
              "    <tr>\n",
              "      <th>3</th>\n",
              "      <td>-0.966272</td>\n",
              "      <td>-0.185226</td>\n",
              "      <td>1.792993</td>\n",
              "      <td>-0.863291</td>\n",
              "      <td>-0.010309</td>\n",
              "      <td>1.247203</td>\n",
              "      <td>0.237609</td>\n",
              "      <td>0.377436</td>\n",
              "      <td>-1.387024</td>\n",
              "      <td>123.50</td>\n",
              "      <td>0</td>\n",
              "    </tr>\n",
              "    <tr>\n",
              "      <th>4</th>\n",
              "      <td>-1.158233</td>\n",
              "      <td>0.877737</td>\n",
              "      <td>1.548718</td>\n",
              "      <td>0.403034</td>\n",
              "      <td>-0.407193</td>\n",
              "      <td>0.095921</td>\n",
              "      <td>0.592941</td>\n",
              "      <td>-0.270533</td>\n",
              "      <td>0.817739</td>\n",
              "      <td>69.99</td>\n",
              "      <td>0</td>\n",
              "    </tr>\n",
              "  </tbody>\n",
              "</table>\n",
              "</div>\n",
              "      <button class=\"colab-df-convert\" onclick=\"convertToInteractive('df-c574f7ab-7b23-4be4-8e61-07f1e72c3a60')\"\n",
              "              title=\"Convert this dataframe to an interactive table.\"\n",
              "              style=\"display:none;\">\n",
              "\n",
              "  <svg xmlns=\"http://www.w3.org/2000/svg\" height=\"24px\"viewBox=\"0 0 24 24\"\n",
              "       width=\"24px\">\n",
              "    <path d=\"M0 0h24v24H0V0z\" fill=\"none\"/>\n",
              "    <path d=\"M18.56 5.44l.94 2.06.94-2.06 2.06-.94-2.06-.94-.94-2.06-.94 2.06-2.06.94zm-11 1L8.5 8.5l.94-2.06 2.06-.94-2.06-.94L8.5 2.5l-.94 2.06-2.06.94zm10 10l.94 2.06.94-2.06 2.06-.94-2.06-.94-.94-2.06-.94 2.06-2.06.94z\"/><path d=\"M17.41 7.96l-1.37-1.37c-.4-.4-.92-.59-1.43-.59-.52 0-1.04.2-1.43.59L10.3 9.45l-7.72 7.72c-.78.78-.78 2.05 0 2.83L4 21.41c.39.39.9.59 1.41.59.51 0 1.02-.2 1.41-.59l7.78-7.78 2.81-2.81c.8-.78.8-2.07 0-2.86zM5.41 20L4 18.59l7.72-7.72 1.47 1.35L5.41 20z\"/>\n",
              "  </svg>\n",
              "      </button>\n",
              "\n",
              "\n",
              "\n",
              "    <div id=\"df-36118fc1-8af5-4174-9e7f-6c06515f4c1b\">\n",
              "      <button class=\"colab-df-quickchart\" onclick=\"quickchart('df-36118fc1-8af5-4174-9e7f-6c06515f4c1b')\"\n",
              "              title=\"Suggest charts.\"\n",
              "              style=\"display:none;\">\n",
              "\n",
              "<svg xmlns=\"http://www.w3.org/2000/svg\" height=\"24px\"viewBox=\"0 0 24 24\"\n",
              "     width=\"24px\">\n",
              "    <g>\n",
              "        <path d=\"M19 3H5c-1.1 0-2 .9-2 2v14c0 1.1.9 2 2 2h14c1.1 0 2-.9 2-2V5c0-1.1-.9-2-2-2zM9 17H7v-7h2v7zm4 0h-2V7h2v10zm4 0h-2v-4h2v4z\"/>\n",
              "    </g>\n",
              "</svg>\n",
              "      </button>\n",
              "    </div>\n",
              "\n",
              "<style>\n",
              "  .colab-df-quickchart {\n",
              "    background-color: #E8F0FE;\n",
              "    border: none;\n",
              "    border-radius: 50%;\n",
              "    cursor: pointer;\n",
              "    display: none;\n",
              "    fill: #1967D2;\n",
              "    height: 32px;\n",
              "    padding: 0 0 0 0;\n",
              "    width: 32px;\n",
              "  }\n",
              "\n",
              "  .colab-df-quickchart:hover {\n",
              "    background-color: #E2EBFA;\n",
              "    box-shadow: 0px 1px 2px rgba(60, 64, 67, 0.3), 0px 1px 3px 1px rgba(60, 64, 67, 0.15);\n",
              "    fill: #174EA6;\n",
              "  }\n",
              "\n",
              "  [theme=dark] .colab-df-quickchart {\n",
              "    background-color: #3B4455;\n",
              "    fill: #D2E3FC;\n",
              "  }\n",
              "\n",
              "  [theme=dark] .colab-df-quickchart:hover {\n",
              "    background-color: #434B5C;\n",
              "    box-shadow: 0px 1px 3px 1px rgba(0, 0, 0, 0.15);\n",
              "    filter: drop-shadow(0px 1px 2px rgba(0, 0, 0, 0.3));\n",
              "    fill: #FFFFFF;\n",
              "  }\n",
              "</style>\n",
              "\n",
              "    <script>\n",
              "      async function quickchart(key) {\n",
              "        const containerElement = document.querySelector('#' + key);\n",
              "        const charts = await google.colab.kernel.invokeFunction(\n",
              "            'suggestCharts', [key], {});\n",
              "      }\n",
              "    </script>\n",
              "\n",
              "      <script>\n",
              "\n",
              "function displayQuickchartButton(domScope) {\n",
              "  let quickchartButtonEl =\n",
              "    domScope.querySelector('#df-36118fc1-8af5-4174-9e7f-6c06515f4c1b button.colab-df-quickchart');\n",
              "  quickchartButtonEl.style.display =\n",
              "    google.colab.kernel.accessAllowed ? 'block' : 'none';\n",
              "}\n",
              "\n",
              "        displayQuickchartButton(document);\n",
              "      </script>\n",
              "      <style>\n",
              "    .colab-df-container {\n",
              "      display:flex;\n",
              "      flex-wrap:wrap;\n",
              "      gap: 12px;\n",
              "    }\n",
              "\n",
              "    .colab-df-convert {\n",
              "      background-color: #E8F0FE;\n",
              "      border: none;\n",
              "      border-radius: 50%;\n",
              "      cursor: pointer;\n",
              "      display: none;\n",
              "      fill: #1967D2;\n",
              "      height: 32px;\n",
              "      padding: 0 0 0 0;\n",
              "      width: 32px;\n",
              "    }\n",
              "\n",
              "    .colab-df-convert:hover {\n",
              "      background-color: #E2EBFA;\n",
              "      box-shadow: 0px 1px 2px rgba(60, 64, 67, 0.3), 0px 1px 3px 1px rgba(60, 64, 67, 0.15);\n",
              "      fill: #174EA6;\n",
              "    }\n",
              "\n",
              "    [theme=dark] .colab-df-convert {\n",
              "      background-color: #3B4455;\n",
              "      fill: #D2E3FC;\n",
              "    }\n",
              "\n",
              "    [theme=dark] .colab-df-convert:hover {\n",
              "      background-color: #434B5C;\n",
              "      box-shadow: 0px 1px 3px 1px rgba(0, 0, 0, 0.15);\n",
              "      filter: drop-shadow(0px 1px 2px rgba(0, 0, 0, 0.3));\n",
              "      fill: #FFFFFF;\n",
              "    }\n",
              "  </style>\n",
              "\n",
              "      <script>\n",
              "        const buttonEl =\n",
              "          document.querySelector('#df-c574f7ab-7b23-4be4-8e61-07f1e72c3a60 button.colab-df-convert');\n",
              "        buttonEl.style.display =\n",
              "          google.colab.kernel.accessAllowed ? 'block' : 'none';\n",
              "\n",
              "        async function convertToInteractive(key) {\n",
              "          const element = document.querySelector('#df-c574f7ab-7b23-4be4-8e61-07f1e72c3a60');\n",
              "          const dataTable =\n",
              "            await google.colab.kernel.invokeFunction('convertToInteractive',\n",
              "                                                     [key], {});\n",
              "          if (!dataTable) return;\n",
              "\n",
              "          const docLinkHtml = 'Like what you see? Visit the ' +\n",
              "            '<a target=\"_blank\" href=https://colab.research.google.com/notebooks/data_table.ipynb>data table notebook</a>'\n",
              "            + ' to learn more about interactive tables.';\n",
              "          element.innerHTML = '';\n",
              "          dataTable['output_type'] = 'display_data';\n",
              "          await google.colab.output.renderOutput(dataTable, element);\n",
              "          const docLink = document.createElement('div');\n",
              "          docLink.innerHTML = docLinkHtml;\n",
              "          element.appendChild(docLink);\n",
              "        }\n",
              "      </script>\n",
              "    </div>\n",
              "  </div>\n"
            ]
          },
          "metadata": {},
          "execution_count": 3
        }
      ],
      "source": [
        "# Import the dataset\n",
        "file_path = \"transactions.csv\"\n",
        "transactions_df = pd.read_csv(file_path)\n",
        "transactions_df.head()"
      ]
    },
    {
      "cell_type": "markdown",
      "metadata": {
        "id": "vuvPz7Ijx-GW"
      },
      "source": [
        "## Data Preprocessing"
      ]
    },
    {
      "cell_type": "code",
      "execution_count": 4,
      "metadata": {
        "id": "zjFHebD-x-GW"
      },
      "outputs": [],
      "source": [
        "# Creating the X and y sets\n",
        "X = transactions_df.iloc[:, 0:10].values\n",
        "y = transactions_df[\"Class\"].values"
      ]
    },
    {
      "cell_type": "code",
      "execution_count": 5,
      "metadata": {
        "id": "-A6sRPIkx-GW"
      },
      "outputs": [],
      "source": [
        "# Creating training, validation, and testing sets\n",
        "from sklearn.model_selection import train_test_split\n",
        "\n",
        "X_train, X_test, y_train, y_test = train_test_split(X, y, random_state=78)\n",
        "\n",
        "X_train, X_val, y_train, y_val = train_test_split(X_train, y_train, random_state=78)"
      ]
    },
    {
      "cell_type": "code",
      "execution_count": 6,
      "metadata": {
        "id": "Ly6OLEd6x-GX"
      },
      "outputs": [],
      "source": [
        "# Import the StandardScaler from sklearn\n",
        "from sklearn.preprocessing import StandardScaler\n",
        "\n",
        "# Scale the data\n",
        "scaler = StandardScaler().fit(X_train)\n",
        "X_train = scaler.transform(X_train)"
      ]
    },
    {
      "cell_type": "markdown",
      "metadata": {
        "id": "PYdaGII_x-GY"
      },
      "source": [
        "## Build and Train the Deep Learning Model"
      ]
    },
    {
      "cell_type": "markdown",
      "metadata": {
        "id": "Mfvev6Ewx-GY"
      },
      "source": [
        " ### Importing the Keras Modules"
      ]
    },
    {
      "cell_type": "code",
      "execution_count": 7,
      "metadata": {
        "id": "fMaQQxobx-GY"
      },
      "outputs": [],
      "source": [
        "# Import Keras modules for model creation\n",
        "from tensorflow.keras.models import Sequential\n",
        "from tensorflow.keras.layers import Dense"
      ]
    },
    {
      "cell_type": "markdown",
      "metadata": {
        "id": "TS1MYn7mx-GY"
      },
      "source": [
        " ### Setting Up the Model"
      ]
    },
    {
      "cell_type": "code",
      "execution_count": 8,
      "metadata": {
        "id": "f0UxuqcOx-GZ"
      },
      "outputs": [],
      "source": [
        "# Model set-up\n",
        "number_input_features = 10\n",
        "hidden_nodes_layer1 = 15\n",
        "hidden_nodes_layer2 = 5"
      ]
    },
    {
      "cell_type": "markdown",
      "metadata": {
        "id": "7Y4H6rZ-x-GZ"
      },
      "source": [
        " ### Defining the Model's Structure"
      ]
    },
    {
      "cell_type": "code",
      "execution_count": 9,
      "metadata": {
        "id": "lFAKuwogx-GZ"
      },
      "outputs": [],
      "source": [
        "# Define the LSTM RNN model\n",
        "model = Sequential()\n",
        "\n",
        "# Layer 1\n",
        "model.add(\n",
        "    Dense(units=hidden_nodes_layer1, input_dim=number_input_features, activation=\"relu\")\n",
        ")\n",
        "\n",
        "# Layer 2\n",
        "model.add(Dense(units=hidden_nodes_layer2, activation=\"relu\"))\n",
        "\n",
        "# Output layer\n",
        "model.add(Dense(1, activation=\"sigmoid\"))"
      ]
    },
    {
      "cell_type": "markdown",
      "metadata": {
        "id": "uNVwRScjx-GZ"
      },
      "source": [
        " ### Compiling the Model"
      ]
    },
    {
      "cell_type": "code",
      "execution_count": 10,
      "metadata": {
        "id": "urnHTUs7x-Ga"
      },
      "outputs": [],
      "source": [
        "# Compile the model\n",
        "model.compile(\n",
        "    loss=\"binary_crossentropy\",\n",
        "    optimizer=\"adam\",\n",
        "    metrics=[\n",
        "        \"accuracy\",\n",
        "        tf.keras.metrics.TruePositives(name=\"tp\"),\n",
        "        tf.keras.metrics.TrueNegatives(name=\"tn\"),\n",
        "        tf.keras.metrics.FalsePositives(name=\"fp\"),\n",
        "        tf.keras.metrics.FalseNegatives(name=\"fn\"),\n",
        "        tf.keras.metrics.Precision(name=\"precision\"),\n",
        "        tf.keras.metrics.Recall(name=\"recall\"),\n",
        "        tf.keras.metrics.AUC(name=\"auc\"),\n",
        "    ],\n",
        ")"
      ]
    },
    {
      "cell_type": "code",
      "execution_count": 11,
      "metadata": {
        "colab": {
          "base_uri": "https://localhost:8080/"
        },
        "id": "M2og6W95x-Ga",
        "outputId": "e340f644-f001-4a90-bc0c-84e8dde78f8c"
      },
      "outputs": [
        {
          "output_type": "stream",
          "name": "stdout",
          "text": [
            "Model: \"sequential\"\n",
            "_________________________________________________________________\n",
            " Layer (type)                Output Shape              Param #   \n",
            "=================================================================\n",
            " dense (Dense)               (None, 15)                165       \n",
            "                                                                 \n",
            " dense_1 (Dense)             (None, 5)                 80        \n",
            "                                                                 \n",
            " dense_2 (Dense)             (None, 1)                 6         \n",
            "                                                                 \n",
            "=================================================================\n",
            "Total params: 251\n",
            "Trainable params: 251\n",
            "Non-trainable params: 0\n",
            "_________________________________________________________________\n"
          ]
        }
      ],
      "source": [
        "# Summarize the model\n",
        "model.summary()"
      ]
    },
    {
      "cell_type": "markdown",
      "metadata": {
        "id": "EhBajQbDx-Ga"
      },
      "source": [
        " ### Training the Model"
      ]
    },
    {
      "cell_type": "code",
      "execution_count": 12,
      "metadata": {
        "colab": {
          "base_uri": "https://localhost:8080/"
        },
        "id": "5xvFyHF_x-Ga",
        "outputId": "a958681a-4cfa-4e2f-e1f7-13aa87034011"
      },
      "outputs": [
        {
          "output_type": "stream",
          "name": "stdout",
          "text": [
            "Epoch 1/50\n",
            "161/161 [==============================] - 3s 7ms/step - loss: 0.4927 - accuracy: 0.8708 - tp: 91.0000 - tn: 139410.0000 - fp: 20536.0000 - fn: 166.0000 - precision: 0.0044 - recall: 0.3541 - auc: 0.5971 - val_loss: 0.1145 - val_accuracy: 0.9980 - val_tp: 0.0000e+00 - val_tn: 53297.0000 - val_fp: 0.0000e+00 - val_fn: 105.0000 - val_precision: 0.0000e+00 - val_recall: 0.0000e+00 - val_auc: 0.5068\n",
            "Epoch 2/50\n",
            "161/161 [==============================] - 1s 3ms/step - loss: 0.1120 - accuracy: 0.9984 - tp: 0.0000e+00 - tn: 159946.0000 - fp: 0.0000e+00 - fn: 257.0000 - precision: 0.0000e+00 - recall: 0.0000e+00 - auc: 0.2682 - val_loss: 0.1252 - val_accuracy: 0.9980 - val_tp: 0.0000e+00 - val_tn: 53297.0000 - val_fp: 0.0000e+00 - val_fn: 105.0000 - val_precision: 0.0000e+00 - val_recall: 0.0000e+00 - val_auc: 0.4818\n",
            "Epoch 3/50\n",
            "161/161 [==============================] - 1s 3ms/step - loss: 0.0274 - accuracy: 0.9984 - tp: 1.0000 - tn: 159946.0000 - fp: 0.0000e+00 - fn: 256.0000 - precision: 1.0000 - recall: 0.0039 - auc: 0.5899 - val_loss: 0.1455 - val_accuracy: 0.9982 - val_tp: 7.0000 - val_tn: 53297.0000 - val_fp: 0.0000e+00 - val_fn: 98.0000 - val_precision: 1.0000 - val_recall: 0.0667 - val_auc: 0.5834\n",
            "Epoch 4/50\n",
            "161/161 [==============================] - 1s 3ms/step - loss: 0.0136 - accuracy: 0.9986 - tp: 32.0000 - tn: 159941.0000 - fp: 5.0000 - fn: 225.0000 - precision: 0.8649 - recall: 0.1245 - auc: 0.7979 - val_loss: 0.1612 - val_accuracy: 0.9983 - val_tp: 15.0000 - val_tn: 53295.0000 - val_fp: 2.0000 - val_fn: 90.0000 - val_precision: 0.8824 - val_recall: 0.1429 - val_auc: 0.6278\n",
            "Epoch 5/50\n",
            "161/161 [==============================] - 1s 3ms/step - loss: 0.0094 - accuracy: 0.9987 - tp: 59.0000 - tn: 159937.0000 - fp: 9.0000 - fn: 198.0000 - precision: 0.8676 - recall: 0.2296 - auc: 0.8547 - val_loss: 0.1709 - val_accuracy: 0.9983 - val_tp: 17.0000 - val_tn: 53294.0000 - val_fp: 3.0000 - val_fn: 88.0000 - val_precision: 0.8500 - val_recall: 0.1619 - val_auc: 0.6522\n",
            "Epoch 6/50\n",
            "161/161 [==============================] - 0s 3ms/step - loss: 0.0075 - accuracy: 0.9988 - tp: 72.0000 - tn: 159936.0000 - fp: 10.0000 - fn: 185.0000 - precision: 0.8780 - recall: 0.2802 - auc: 0.8864 - val_loss: 0.1757 - val_accuracy: 0.9984 - val_tp: 20.0000 - val_tn: 53294.0000 - val_fp: 3.0000 - val_fn: 85.0000 - val_precision: 0.8696 - val_recall: 0.1905 - val_auc: 0.6671\n",
            "Epoch 7/50\n",
            "161/161 [==============================] - 1s 3ms/step - loss: 0.0065 - accuracy: 0.9988 - tp: 79.0000 - tn: 159933.0000 - fp: 13.0000 - fn: 178.0000 - precision: 0.8587 - recall: 0.3074 - auc: 0.8975 - val_loss: 0.1747 - val_accuracy: 0.9984 - val_tp: 22.0000 - val_tn: 53294.0000 - val_fp: 3.0000 - val_fn: 83.0000 - val_precision: 0.8800 - val_recall: 0.2095 - val_auc: 0.6851\n",
            "Epoch 8/50\n",
            "161/161 [==============================] - 0s 3ms/step - loss: 0.0058 - accuracy: 0.9989 - tp: 91.0000 - tn: 159930.0000 - fp: 16.0000 - fn: 166.0000 - precision: 0.8505 - recall: 0.3541 - auc: 0.8990 - val_loss: 0.1731 - val_accuracy: 0.9984 - val_tp: 24.0000 - val_tn: 53294.0000 - val_fp: 3.0000 - val_fn: 81.0000 - val_precision: 0.8889 - val_recall: 0.2286 - val_auc: 0.6926\n",
            "Epoch 9/50\n",
            "161/161 [==============================] - 1s 3ms/step - loss: 0.0054 - accuracy: 0.9989 - tp: 104.0000 - tn: 159929.0000 - fp: 17.0000 - fn: 153.0000 - precision: 0.8595 - recall: 0.4047 - auc: 0.9043 - val_loss: 0.1686 - val_accuracy: 0.9984 - val_tp: 26.0000 - val_tn: 53289.0000 - val_fp: 8.0000 - val_fn: 79.0000 - val_precision: 0.7647 - val_recall: 0.2476 - val_auc: 0.7034\n",
            "Epoch 10/50\n",
            "161/161 [==============================] - 1s 3ms/step - loss: 0.0051 - accuracy: 0.9990 - tp: 120.0000 - tn: 159927.0000 - fp: 19.0000 - fn: 137.0000 - precision: 0.8633 - recall: 0.4669 - auc: 0.9071 - val_loss: 0.1604 - val_accuracy: 0.9984 - val_tp: 28.0000 - val_tn: 53286.0000 - val_fp: 11.0000 - val_fn: 77.0000 - val_precision: 0.7179 - val_recall: 0.2667 - val_auc: 0.7119\n",
            "Epoch 11/50\n",
            "161/161 [==============================] - 1s 3ms/step - loss: 0.0048 - accuracy: 0.9991 - tp: 128.0000 - tn: 159926.0000 - fp: 20.0000 - fn: 129.0000 - precision: 0.8649 - recall: 0.4981 - auc: 0.9094 - val_loss: 0.1539 - val_accuracy: 0.9985 - val_tp: 36.0000 - val_tn: 53285.0000 - val_fp: 12.0000 - val_fn: 69.0000 - val_precision: 0.7500 - val_recall: 0.3429 - val_auc: 0.7254\n",
            "Epoch 12/50\n",
            "161/161 [==============================] - 1s 5ms/step - loss: 0.0046 - accuracy: 0.9991 - tp: 137.0000 - tn: 159923.0000 - fp: 23.0000 - fn: 120.0000 - precision: 0.8562 - recall: 0.5331 - auc: 0.9060 - val_loss: 0.1464 - val_accuracy: 0.9985 - val_tp: 38.0000 - val_tn: 53283.0000 - val_fp: 14.0000 - val_fn: 67.0000 - val_precision: 0.7308 - val_recall: 0.3619 - val_auc: 0.7294\n",
            "Epoch 13/50\n",
            "161/161 [==============================] - 1s 5ms/step - loss: 0.0044 - accuracy: 0.9991 - tp: 140.0000 - tn: 159922.0000 - fp: 24.0000 - fn: 117.0000 - precision: 0.8537 - recall: 0.5447 - auc: 0.9063 - val_loss: 0.1385 - val_accuracy: 0.9985 - val_tp: 42.0000 - val_tn: 53281.0000 - val_fp: 16.0000 - val_fn: 63.0000 - val_precision: 0.7241 - val_recall: 0.4000 - val_auc: 0.7330\n",
            "Epoch 14/50\n",
            "161/161 [==============================] - 1s 5ms/step - loss: 0.0043 - accuracy: 0.9991 - tp: 143.0000 - tn: 159923.0000 - fp: 23.0000 - fn: 114.0000 - precision: 0.8614 - recall: 0.5564 - auc: 0.9084 - val_loss: 0.1309 - val_accuracy: 0.9984 - val_tp: 43.0000 - val_tn: 53275.0000 - val_fp: 22.0000 - val_fn: 62.0000 - val_precision: 0.6615 - val_recall: 0.4095 - val_auc: 0.7366\n",
            "Epoch 15/50\n",
            "161/161 [==============================] - 1s 5ms/step - loss: 0.0042 - accuracy: 0.9992 - tp: 151.0000 - tn: 159918.0000 - fp: 28.0000 - fn: 106.0000 - precision: 0.8436 - recall: 0.5875 - auc: 0.9162 - val_loss: 0.1242 - val_accuracy: 0.9984 - val_tp: 43.0000 - val_tn: 53272.0000 - val_fp: 25.0000 - val_fn: 62.0000 - val_precision: 0.6324 - val_recall: 0.4095 - val_auc: 0.7361\n",
            "Epoch 16/50\n",
            "161/161 [==============================] - 1s 3ms/step - loss: 0.0041 - accuracy: 0.9991 - tp: 147.0000 - tn: 159918.0000 - fp: 28.0000 - fn: 110.0000 - precision: 0.8400 - recall: 0.5720 - auc: 0.9163 - val_loss: 0.1157 - val_accuracy: 0.9983 - val_tp: 43.0000 - val_tn: 53269.0000 - val_fp: 28.0000 - val_fn: 62.0000 - val_precision: 0.6056 - val_recall: 0.4095 - val_auc: 0.7398\n",
            "Epoch 17/50\n",
            "161/161 [==============================] - 1s 3ms/step - loss: 0.0040 - accuracy: 0.9992 - tp: 151.0000 - tn: 159919.0000 - fp: 27.0000 - fn: 106.0000 - precision: 0.8483 - recall: 0.5875 - auc: 0.9165 - val_loss: 0.1095 - val_accuracy: 0.9982 - val_tp: 47.0000 - val_tn: 53259.0000 - val_fp: 38.0000 - val_fn: 58.0000 - val_precision: 0.5529 - val_recall: 0.4476 - val_auc: 0.7388\n",
            "Epoch 18/50\n",
            "161/161 [==============================] - 1s 3ms/step - loss: 0.0039 - accuracy: 0.9992 - tp: 158.0000 - tn: 159919.0000 - fp: 27.0000 - fn: 99.0000 - precision: 0.8541 - recall: 0.6148 - auc: 0.9243 - val_loss: 0.1044 - val_accuracy: 0.9982 - val_tp: 47.0000 - val_tn: 53259.0000 - val_fp: 38.0000 - val_fn: 58.0000 - val_precision: 0.5529 - val_recall: 0.4476 - val_auc: 0.7422\n",
            "Epoch 19/50\n",
            "161/161 [==============================] - 1s 3ms/step - loss: 0.0039 - accuracy: 0.9992 - tp: 155.0000 - tn: 159918.0000 - fp: 28.0000 - fn: 102.0000 - precision: 0.8470 - recall: 0.6031 - auc: 0.9283 - val_loss: 0.1010 - val_accuracy: 0.9980 - val_tp: 47.0000 - val_tn: 53250.0000 - val_fp: 47.0000 - val_fn: 58.0000 - val_precision: 0.5000 - val_recall: 0.4476 - val_auc: 0.7464\n",
            "Epoch 20/50\n",
            "161/161 [==============================] - 1s 3ms/step - loss: 0.0038 - accuracy: 0.9992 - tp: 159.0000 - tn: 159919.0000 - fp: 27.0000 - fn: 98.0000 - precision: 0.8548 - recall: 0.6187 - auc: 0.9284 - val_loss: 0.0980 - val_accuracy: 0.9981 - val_tp: 47.0000 - val_tn: 53252.0000 - val_fp: 45.0000 - val_fn: 58.0000 - val_precision: 0.5109 - val_recall: 0.4476 - val_auc: 0.7462\n",
            "Epoch 21/50\n",
            "161/161 [==============================] - 1s 3ms/step - loss: 0.0038 - accuracy: 0.9992 - tp: 158.0000 - tn: 159919.0000 - fp: 27.0000 - fn: 99.0000 - precision: 0.8541 - recall: 0.6148 - auc: 0.9284 - val_loss: 0.0928 - val_accuracy: 0.9979 - val_tp: 48.0000 - val_tn: 53244.0000 - val_fp: 53.0000 - val_fn: 57.0000 - val_precision: 0.4752 - val_recall: 0.4571 - val_auc: 0.7497\n",
            "Epoch 22/50\n",
            "161/161 [==============================] - 1s 4ms/step - loss: 0.0037 - accuracy: 0.9992 - tp: 158.0000 - tn: 159918.0000 - fp: 28.0000 - fn: 99.0000 - precision: 0.8495 - recall: 0.6148 - auc: 0.9285 - val_loss: 0.0897 - val_accuracy: 0.9979 - val_tp: 48.0000 - val_tn: 53243.0000 - val_fp: 54.0000 - val_fn: 57.0000 - val_precision: 0.4706 - val_recall: 0.4571 - val_auc: 0.7486\n",
            "Epoch 23/50\n",
            "161/161 [==============================] - 1s 3ms/step - loss: 0.0037 - accuracy: 0.9992 - tp: 159.0000 - tn: 159917.0000 - fp: 29.0000 - fn: 98.0000 - precision: 0.8457 - recall: 0.6187 - auc: 0.9304 - val_loss: 0.0850 - val_accuracy: 0.9978 - val_tp: 49.0000 - val_tn: 53236.0000 - val_fp: 61.0000 - val_fn: 56.0000 - val_precision: 0.4455 - val_recall: 0.4667 - val_auc: 0.7566\n",
            "Epoch 24/50\n",
            "161/161 [==============================] - 1s 4ms/step - loss: 0.0036 - accuracy: 0.9992 - tp: 160.0000 - tn: 159919.0000 - fp: 27.0000 - fn: 97.0000 - precision: 0.8556 - recall: 0.6226 - auc: 0.9304 - val_loss: 0.0822 - val_accuracy: 0.9978 - val_tp: 49.0000 - val_tn: 53233.0000 - val_fp: 64.0000 - val_fn: 56.0000 - val_precision: 0.4336 - val_recall: 0.4667 - val_auc: 0.7568\n",
            "Epoch 25/50\n",
            "161/161 [==============================] - 1s 3ms/step - loss: 0.0036 - accuracy: 0.9992 - tp: 160.0000 - tn: 159919.0000 - fp: 27.0000 - fn: 97.0000 - precision: 0.8556 - recall: 0.6226 - auc: 0.9305 - val_loss: 0.0789 - val_accuracy: 0.9977 - val_tp: 49.0000 - val_tn: 53230.0000 - val_fp: 67.0000 - val_fn: 56.0000 - val_precision: 0.4224 - val_recall: 0.4667 - val_auc: 0.7601\n",
            "Epoch 26/50\n",
            "161/161 [==============================] - 1s 3ms/step - loss: 0.0036 - accuracy: 0.9992 - tp: 161.0000 - tn: 159921.0000 - fp: 25.0000 - fn: 96.0000 - precision: 0.8656 - recall: 0.6265 - auc: 0.9305 - val_loss: 0.0741 - val_accuracy: 0.9975 - val_tp: 50.0000 - val_tn: 53219.0000 - val_fp: 78.0000 - val_fn: 55.0000 - val_precision: 0.3906 - val_recall: 0.4762 - val_auc: 0.7669\n",
            "Epoch 27/50\n",
            "161/161 [==============================] - 1s 3ms/step - loss: 0.0036 - accuracy: 0.9992 - tp: 161.0000 - tn: 159919.0000 - fp: 27.0000 - fn: 96.0000 - precision: 0.8564 - recall: 0.6265 - auc: 0.9305 - val_loss: 0.0728 - val_accuracy: 0.9977 - val_tp: 50.0000 - val_tn: 53228.0000 - val_fp: 69.0000 - val_fn: 55.0000 - val_precision: 0.4202 - val_recall: 0.4762 - val_auc: 0.7669\n",
            "Epoch 28/50\n",
            "161/161 [==============================] - 1s 3ms/step - loss: 0.0036 - accuracy: 0.9992 - tp: 161.0000 - tn: 159920.0000 - fp: 26.0000 - fn: 96.0000 - precision: 0.8610 - recall: 0.6265 - auc: 0.9305 - val_loss: 0.0694 - val_accuracy: 0.9972 - val_tp: 50.0000 - val_tn: 53201.0000 - val_fp: 96.0000 - val_fn: 55.0000 - val_precision: 0.3425 - val_recall: 0.4762 - val_auc: 0.7704\n",
            "Epoch 29/50\n",
            "161/161 [==============================] - 1s 3ms/step - loss: 0.0035 - accuracy: 0.9992 - tp: 162.0000 - tn: 159917.0000 - fp: 29.0000 - fn: 95.0000 - precision: 0.8482 - recall: 0.6304 - auc: 0.9306 - val_loss: 0.0680 - val_accuracy: 0.9965 - val_tp: 50.0000 - val_tn: 53167.0000 - val_fp: 130.0000 - val_fn: 55.0000 - val_precision: 0.2778 - val_recall: 0.4762 - val_auc: 0.7719\n",
            "Epoch 30/50\n",
            "161/161 [==============================] - 1s 4ms/step - loss: 0.0035 - accuracy: 0.9993 - tp: 165.0000 - tn: 159920.0000 - fp: 26.0000 - fn: 92.0000 - precision: 0.8639 - recall: 0.6420 - auc: 0.9325 - val_loss: 0.0663 - val_accuracy: 0.9967 - val_tp: 50.0000 - val_tn: 53175.0000 - val_fp: 122.0000 - val_fn: 55.0000 - val_precision: 0.2907 - val_recall: 0.4762 - val_auc: 0.7721\n",
            "Epoch 31/50\n",
            "161/161 [==============================] - 1s 3ms/step - loss: 0.0035 - accuracy: 0.9992 - tp: 163.0000 - tn: 159919.0000 - fp: 27.0000 - fn: 94.0000 - precision: 0.8579 - recall: 0.6342 - auc: 0.9344 - val_loss: 0.0641 - val_accuracy: 0.9965 - val_tp: 51.0000 - val_tn: 53163.0000 - val_fp: 134.0000 - val_fn: 54.0000 - val_precision: 0.2757 - val_recall: 0.4857 - val_auc: 0.7754\n",
            "Epoch 32/50\n",
            "161/161 [==============================] - 1s 4ms/step - loss: 0.0035 - accuracy: 0.9993 - tp: 165.0000 - tn: 159922.0000 - fp: 24.0000 - fn: 92.0000 - precision: 0.8730 - recall: 0.6420 - auc: 0.9345 - val_loss: 0.0631 - val_accuracy: 0.9953 - val_tp: 53.0000 - val_tn: 53098.0000 - val_fp: 199.0000 - val_fn: 52.0000 - val_precision: 0.2103 - val_recall: 0.5048 - val_auc: 0.7921\n",
            "Epoch 33/50\n",
            "161/161 [==============================] - 1s 3ms/step - loss: 0.0035 - accuracy: 0.9993 - tp: 165.0000 - tn: 159918.0000 - fp: 28.0000 - fn: 92.0000 - precision: 0.8549 - recall: 0.6420 - auc: 0.9325 - val_loss: 0.0617 - val_accuracy: 0.9954 - val_tp: 54.0000 - val_tn: 53101.0000 - val_fp: 196.0000 - val_fn: 51.0000 - val_precision: 0.2160 - val_recall: 0.5143 - val_auc: 0.7931\n",
            "Epoch 34/50\n",
            "161/161 [==============================] - 1s 5ms/step - loss: 0.0035 - accuracy: 0.9993 - tp: 167.0000 - tn: 159920.0000 - fp: 26.0000 - fn: 90.0000 - precision: 0.8653 - recall: 0.6498 - auc: 0.9345 - val_loss: 0.0618 - val_accuracy: 0.9953 - val_tp: 54.0000 - val_tn: 53095.0000 - val_fp: 202.0000 - val_fn: 51.0000 - val_precision: 0.2109 - val_recall: 0.5143 - val_auc: 0.7940\n",
            "Epoch 35/50\n",
            "161/161 [==============================] - 1s 5ms/step - loss: 0.0034 - accuracy: 0.9993 - tp: 168.0000 - tn: 159918.0000 - fp: 28.0000 - fn: 89.0000 - precision: 0.8571 - recall: 0.6537 - auc: 0.9383 - val_loss: 0.0590 - val_accuracy: 0.9940 - val_tp: 56.0000 - val_tn: 53023.0000 - val_fp: 274.0000 - val_fn: 49.0000 - val_precision: 0.1697 - val_recall: 0.5333 - val_auc: 0.8010\n",
            "Epoch 36/50\n",
            "161/161 [==============================] - 1s 5ms/step - loss: 0.0034 - accuracy: 0.9993 - tp: 167.0000 - tn: 159919.0000 - fp: 27.0000 - fn: 90.0000 - precision: 0.8608 - recall: 0.6498 - auc: 0.9383 - val_loss: 0.0578 - val_accuracy: 0.9935 - val_tp: 56.0000 - val_tn: 53000.0000 - val_fp: 297.0000 - val_fn: 49.0000 - val_precision: 0.1586 - val_recall: 0.5333 - val_auc: 0.8010\n",
            "Epoch 37/50\n",
            "161/161 [==============================] - 1s 5ms/step - loss: 0.0034 - accuracy: 0.9993 - tp: 168.0000 - tn: 159920.0000 - fp: 26.0000 - fn: 89.0000 - precision: 0.8660 - recall: 0.6537 - auc: 0.9383 - val_loss: 0.0572 - val_accuracy: 0.9936 - val_tp: 56.0000 - val_tn: 53006.0000 - val_fp: 291.0000 - val_fn: 49.0000 - val_precision: 0.1614 - val_recall: 0.5333 - val_auc: 0.8013\n",
            "Epoch 38/50\n",
            "161/161 [==============================] - 0s 3ms/step - loss: 0.0034 - accuracy: 0.9993 - tp: 168.0000 - tn: 159918.0000 - fp: 28.0000 - fn: 89.0000 - precision: 0.8571 - recall: 0.6537 - auc: 0.9403 - val_loss: 0.0559 - val_accuracy: 0.9930 - val_tp: 56.0000 - val_tn: 52970.0000 - val_fp: 327.0000 - val_fn: 49.0000 - val_precision: 0.1462 - val_recall: 0.5333 - val_auc: 0.8096\n",
            "Epoch 39/50\n",
            "161/161 [==============================] - 1s 4ms/step - loss: 0.0034 - accuracy: 0.9993 - tp: 169.0000 - tn: 159921.0000 - fp: 25.0000 - fn: 88.0000 - precision: 0.8711 - recall: 0.6576 - auc: 0.9403 - val_loss: 0.0563 - val_accuracy: 0.9906 - val_tp: 60.0000 - val_tn: 52839.0000 - val_fp: 458.0000 - val_fn: 45.0000 - val_precision: 0.1158 - val_recall: 0.5714 - val_auc: 0.8215\n",
            "Epoch 40/50\n",
            "161/161 [==============================] - 1s 3ms/step - loss: 0.0034 - accuracy: 0.9993 - tp: 169.0000 - tn: 159922.0000 - fp: 24.0000 - fn: 88.0000 - precision: 0.8756 - recall: 0.6576 - auc: 0.9422 - val_loss: 0.0549 - val_accuracy: 0.9918 - val_tp: 58.0000 - val_tn: 52907.0000 - val_fp: 390.0000 - val_fn: 47.0000 - val_precision: 0.1295 - val_recall: 0.5524 - val_auc: 0.8196\n",
            "Epoch 41/50\n",
            "161/161 [==============================] - 1s 3ms/step - loss: 0.0034 - accuracy: 0.9993 - tp: 170.0000 - tn: 159921.0000 - fp: 25.0000 - fn: 87.0000 - precision: 0.8718 - recall: 0.6615 - auc: 0.9441 - val_loss: 0.0542 - val_accuracy: 0.9907 - val_tp: 59.0000 - val_tn: 52846.0000 - val_fp: 451.0000 - val_fn: 46.0000 - val_precision: 0.1157 - val_recall: 0.5619 - val_auc: 0.8256\n",
            "Epoch 42/50\n",
            "161/161 [==============================] - 1s 3ms/step - loss: 0.0034 - accuracy: 0.9993 - tp: 169.0000 - tn: 159922.0000 - fp: 24.0000 - fn: 88.0000 - precision: 0.8756 - recall: 0.6576 - auc: 0.9422 - val_loss: 0.0538 - val_accuracy: 0.9894 - val_tp: 60.0000 - val_tn: 52774.0000 - val_fp: 523.0000 - val_fn: 45.0000 - val_precision: 0.1029 - val_recall: 0.5714 - val_auc: 0.8281\n",
            "Epoch 43/50\n",
            "161/161 [==============================] - 1s 3ms/step - loss: 0.0033 - accuracy: 0.9993 - tp: 171.0000 - tn: 159924.0000 - fp: 22.0000 - fn: 86.0000 - precision: 0.8860 - recall: 0.6654 - auc: 0.9422 - val_loss: 0.0548 - val_accuracy: 0.9868 - val_tp: 62.0000 - val_tn: 52637.0000 - val_fp: 660.0000 - val_fn: 43.0000 - val_precision: 0.0859 - val_recall: 0.5905 - val_auc: 0.8322\n",
            "Epoch 44/50\n",
            "161/161 [==============================] - 1s 3ms/step - loss: 0.0034 - accuracy: 0.9993 - tp: 172.0000 - tn: 159921.0000 - fp: 25.0000 - fn: 85.0000 - precision: 0.8731 - recall: 0.6693 - auc: 0.9422 - val_loss: 0.0536 - val_accuracy: 0.9870 - val_tp: 62.0000 - val_tn: 52646.0000 - val_fp: 651.0000 - val_fn: 43.0000 - val_precision: 0.0870 - val_recall: 0.5905 - val_auc: 0.8326\n",
            "Epoch 45/50\n",
            "161/161 [==============================] - 1s 4ms/step - loss: 0.0033 - accuracy: 0.9993 - tp: 172.0000 - tn: 159923.0000 - fp: 23.0000 - fn: 85.0000 - precision: 0.8821 - recall: 0.6693 - auc: 0.9423 - val_loss: 0.0553 - val_accuracy: 0.9850 - val_tp: 63.0000 - val_tn: 52540.0000 - val_fp: 757.0000 - val_fn: 42.0000 - val_precision: 0.0768 - val_recall: 0.6000 - val_auc: 0.8376\n",
            "Epoch 46/50\n",
            "161/161 [==============================] - 1s 3ms/step - loss: 0.0033 - accuracy: 0.9993 - tp: 174.0000 - tn: 159920.0000 - fp: 26.0000 - fn: 83.0000 - precision: 0.8700 - recall: 0.6770 - auc: 0.9480 - val_loss: 0.0522 - val_accuracy: 0.9879 - val_tp: 63.0000 - val_tn: 52693.0000 - val_fp: 604.0000 - val_fn: 42.0000 - val_precision: 0.0945 - val_recall: 0.6000 - val_auc: 0.8337\n",
            "Epoch 47/50\n",
            "161/161 [==============================] - 1s 4ms/step - loss: 0.0033 - accuracy: 0.9993 - tp: 174.0000 - tn: 159922.0000 - fp: 24.0000 - fn: 83.0000 - precision: 0.8788 - recall: 0.6770 - auc: 0.9442 - val_loss: 0.0539 - val_accuracy: 0.9875 - val_tp: 63.0000 - val_tn: 52671.0000 - val_fp: 626.0000 - val_fn: 42.0000 - val_precision: 0.0914 - val_recall: 0.6000 - val_auc: 0.8364\n",
            "Epoch 48/50\n",
            "161/161 [==============================] - 1s 4ms/step - loss: 0.0033 - accuracy: 0.9994 - tp: 177.0000 - tn: 159922.0000 - fp: 24.0000 - fn: 80.0000 - precision: 0.8806 - recall: 0.6887 - auc: 0.9442 - val_loss: 0.0534 - val_accuracy: 0.9870 - val_tp: 64.0000 - val_tn: 52646.0000 - val_fp: 651.0000 - val_fn: 41.0000 - val_precision: 0.0895 - val_recall: 0.6095 - val_auc: 0.8441\n",
            "Epoch 49/50\n",
            "161/161 [==============================] - 1s 3ms/step - loss: 0.0033 - accuracy: 0.9993 - tp: 174.0000 - tn: 159919.0000 - fp: 27.0000 - fn: 83.0000 - precision: 0.8657 - recall: 0.6770 - auc: 0.9404 - val_loss: 0.0526 - val_accuracy: 0.9878 - val_tp: 65.0000 - val_tn: 52684.0000 - val_fp: 613.0000 - val_fn: 40.0000 - val_precision: 0.0959 - val_recall: 0.6190 - val_auc: 0.8421\n",
            "Epoch 50/50\n",
            "161/161 [==============================] - 1s 4ms/step - loss: 0.0033 - accuracy: 0.9993 - tp: 175.0000 - tn: 159920.0000 - fp: 26.0000 - fn: 82.0000 - precision: 0.8706 - recall: 0.6809 - auc: 0.9423 - val_loss: 0.0513 - val_accuracy: 0.9899 - val_tp: 64.0000 - val_tn: 52797.0000 - val_fp: 500.0000 - val_fn: 41.0000 - val_precision: 0.1135 - val_recall: 0.6095 - val_auc: 0.8405\n"
          ]
        }
      ],
      "source": [
        "# Training the model\n",
        "batch_size = 1000\n",
        "epochs = 50\n",
        "training_history = model.fit(\n",
        "    X_train,\n",
        "    y_train,\n",
        "    validation_data=(X_val, y_val),\n",
        "    epochs=epochs,\n",
        "    batch_size=batch_size,\n",
        "    verbose=1,\n",
        ")"
      ]
    },
    {
      "cell_type": "markdown",
      "metadata": {
        "id": "TCoOIcwRx-Ga"
      },
      "source": [
        "### Model Performance"
      ]
    },
    {
      "cell_type": "markdown",
      "metadata": {
        "id": "Wwrnq-tFx-Gb"
      },
      "source": [
        "#### Checking Training History"
      ]
    },
    {
      "cell_type": "code",
      "execution_count": 13,
      "metadata": {
        "colab": {
          "base_uri": "https://localhost:8080/",
          "height": 489
        },
        "id": "V4x5-vdAx-Gb",
        "outputId": "7fd720ba-14ca-4c9b-8250-4ce4c2b8ec59"
      },
      "outputs": [
        {
          "output_type": "execute_result",
          "data": {
            "text/plain": [
              "<Axes: title={'center': 'Loss'}, xlabel='Epoch'>"
            ]
          },
          "metadata": {},
          "execution_count": 13
        },
        {
          "output_type": "display_data",
          "data": {
            "text/plain": [
              "<Figure size 640x480 with 1 Axes>"
            ],
            "image/png": "[encoded data removed]"
          },
          "metadata": {}
        }
      ],
      "source": [
        "# Plotting loss\n",
        "loss_df = pd.DataFrame(\n",
        "    {\n",
        "        \"Epoch\": range(1, epochs + 1),\n",
        "        \"Train\": training_history.history[\"loss\"],\n",
        "        \"Val\": training_history.history[\"val_loss\"],\n",
        "    }\n",
        ")\n",
        "loss_df.set_index(\"Epoch\", inplace=True)\n",
        "loss_df.plot(title=\"Loss\")"
      ]
    },
    {
      "cell_type": "code",
      "execution_count": 14,
      "metadata": {
        "colab": {
          "base_uri": "https://localhost:8080/",
          "height": 489
        },
        "id": "zeyRKaoNx-Gb",
        "outputId": "03779e71-adc3-40cb-b67e-5c2202771721"
      },
      "outputs": [
        {
          "output_type": "execute_result",
          "data": {
            "text/plain": [
              "<Axes: title={'center': 'Accuracy'}, xlabel='Epoch'>"
            ]
          },
          "metadata": {},
          "execution_count": 14
        },
        {
          "output_type": "display_data",
          "data": {
            "text/plain": [
              "<Figure size 640x480 with 1 Axes>"
            ],
            "image/png": "[encoded data removed]"
          },
          "metadata": {}
        }
      ],
      "source": [
        "# Plotting accuracy\n",
        "accuracy_df = pd.DataFrame(\n",
        "    {\n",
        "        \"Epoch\": range(1, epochs + 1),\n",
        "        \"Train\": training_history.history[\"accuracy\"],\n",
        "        \"Val\": training_history.history[\"val_accuracy\"],\n",
        "    }\n",
        ")\n",
        "accuracy_df.set_index(\"Epoch\", inplace=True)\n",
        "accuracy_df.plot(title=\"Accuracy\")"
      ]
    },
    {
      "cell_type": "code",
      "execution_count": 15,
      "metadata": {
        "colab": {
          "base_uri": "https://localhost:8080/",
          "height": 489
        },
        "id": "G5PGUPjUx-Gc",
        "outputId": "ffc0070d-9392-4955-f3a5-f92ac7e8fc31"
      },
      "outputs": [
        {
          "output_type": "execute_result",
          "data": {
            "text/plain": [
              "<Axes: title={'center': 'AUC'}, xlabel='Epoch'>"
            ]
          },
          "metadata": {},
          "execution_count": 15
        },
        {
          "output_type": "display_data",
          "data": {
            "text/plain": [
              "<Figure size 640x480 with 1 Axes>"
            ],
            "image/png": "[encoded data removed]"
          },
          "metadata": {}
        }
      ],
      "source": [
        "# Plotting AUC\n",
        "auc_df = pd.DataFrame(\n",
        "    {\n",
        "        \"Epoch\": range(1, epochs + 1),\n",
        "        \"Train\": training_history.history[\"auc\"],\n",
        "        \"Val\": training_history.history[\"val_auc\"],\n",
        "    }\n",
        ")\n",
        "auc_df.set_index(\"Epoch\", inplace=True)\n",
        "auc_df.plot(title=\"AUC\")"
      ]
    },
    {
      "cell_type": "markdown",
      "metadata": {
        "id": "SfTI8xuSx-Gc"
      },
      "source": [
        "#### Plotting the ROC Curve"
      ]
    },
    {
      "cell_type": "code",
      "execution_count": 16,
      "metadata": {
        "id": "eACSEgwHx-Gc"
      },
      "outputs": [],
      "source": [
        "# Import the roc_curve and auc metrics from sklearn\n",
        "from sklearn.metrics import roc_curve, auc"
      ]
    },
    {
      "cell_type": "code",
      "execution_count": 17,
      "metadata": {
        "id": "LBeo5oSpx-Gc",
        "colab": {
          "base_uri": "https://localhost:8080/"
        },
        "outputId": "32b1aad7-ff03-450c-acfb-2635bab6b857"
      },
      "outputs": [
        {
          "output_type": "stream",
          "name": "stdout",
          "text": [
            "161/161 [==============================] - 0s 1ms/step\n",
            "72/72 [==============================] - 0s 1ms/step\n"
          ]
        }
      ],
      "source": [
        "# Making predictions to feed the roc_curve module\n",
        "train_predictions = model.predict(X_train, batch_size=1000)\n",
        "test_predictions = model.predict(X_test, batch_size=1000)"
      ]
    },
    {
      "cell_type": "code",
      "execution_count": 18,
      "metadata": {
        "id": "IkOeWg2qx-Gc"
      },
      "outputs": [],
      "source": [
        "# Calculate the ROC curve and AUC for the training set\n",
        "# trp = True Positives/positives = 1\n",
        "# fpr = False Positives/Negatives = 0\n",
        "\n",
        "fpr_train, tpr_train, thresholds_train = roc_curve(y_train, train_predictions)\n",
        "auc_train = auc(fpr_train, tpr_train)\n",
        "auc_train = round(auc_train, 4)\n",
        "\n",
        "# Calculate the ROC curve and AUC for the testing set\n",
        "fpr_test, tpr_test, thresholds_test = roc_curve(y_test, test_predictions)\n",
        "auc_test = auc(fpr_test, tpr_test)\n",
        "auc_test = round(auc_test, 4)"
      ]
    },
    {
      "cell_type": "code",
      "execution_count": 19,
      "metadata": {
        "id": "j7gxIn9qx-Gd"
      },
      "outputs": [],
      "source": [
        "# Create a DataFrame with the fpr and tpr results\n",
        "roc_df_train = pd.DataFrame({\"FPR Train\": fpr_train, \"TPR Train\": tpr_train,})\n",
        "\n",
        "roc_df_test = pd.DataFrame({\"FPR Test\": fpr_test, \"TPR Test\": tpr_test,})"
      ]
    },
    {
      "cell_type": "code",
      "execution_count": 20,
      "metadata": {
        "colab": {
          "base_uri": "https://localhost:8080/",
          "height": 944
        },
        "id": "prR6cd5Dx-Gd",
        "outputId": "0d8ee302-f671-4553-9684-70ef38864c2f"
      },
      "outputs": [
        {
          "output_type": "execute_result",
          "data": {
            "text/plain": [
              "<Axes: title={'center': 'Test ROC Curve (AUC=0.8142)'}, xlabel='FPR Test'>"
            ]
          },
          "metadata": {},
          "execution_count": 20
        },
        {
          "output_type": "display_data",
          "data": {
            "text/plain": [
              "<Figure size 640x480 with 1 Axes>"
            ],
            "image/png": "[encoded data removed]"
          },
          "metadata": {}
        },
        {
          "output_type": "display_data",
          "data": {
            "text/plain": [
              "<Figure size 640x480 with 1 Axes>"
            ],
            "image/png": "[encoded data removed]"
          },
          "metadata": {}
        }
      ],
      "source": [
        "# Plotting the ROC Curves\n",
        "roc_df_train.plot(\n",
        "    x=\"FPR Train\",\n",
        "    y=\"TPR Train\",\n",
        "    xlim=([-0.05, 1.05]),\n",
        "    title=f\"Train ROC Curve (AUC={auc_train})\",\n",
        ")\n",
        "\n",
        "roc_df_test.plot(\n",
        "    x=\"FPR Test\",\n",
        "    y=\"TPR Test\",\n",
        "    color=\"red\",\n",
        "    style=\"--\",\n",
        "    xlim=([-0.05, 1.05]),\n",
        "    title=f\"Test ROC Curve (AUC={auc_test})\",\n",
        ")\n",
        "\n",
        "\n",
        "#classification threshold (0.1) by defult is 0.5... means the model is sentitive the higher the threshold the less sentitive the model is"
      ]
    },
    {
      "cell_type": "markdown",
      "metadata": {
        "id": "3_ptXWoqx-Gd"
      },
      "source": [
        "#### Evaluate the Model"
      ]
    },
    {
      "cell_type": "code",
      "execution_count": 21,
      "metadata": {
        "colab": {
          "base_uri": "https://localhost:8080/",
          "height": 173
        },
        "id": "-1RVGe4dx-Gd",
        "outputId": "b755bab4-c529-4fce-a824-8db2d28f8f51"
      },
      "outputs": [
        {
          "output_type": "display_data",
          "data": {
            "text/plain": [
              "{'loss': 0.05226250737905502,\n",
              " 'accuracy': 0.9899721741676331,\n",
              " 'tp': 75.0,\n",
              " 'tn': 70413.0,\n",
              " 'fp': 659.0,\n",
              " 'fn': 55.0,\n",
              " 'precision': 0.10217984020709991,\n",
              " 'recall': 0.5769230723381042,\n",
              " 'auc': 0.8444079756736755}"
            ]
          },
          "metadata": {}
        }
      ],
      "source": [
        "# Evaluate the model\n",
        "scores = model.evaluate(X_test, y_test, verbose=0)\n",
        "\n",
        "# Define metrics dictionary\n",
        "metrics = {k: v for k, v in zip(model.metrics_names, scores)}\n",
        "\n",
        "# Display evaluation metrics results\n",
        "display(metrics)"
      ]
    },
    {
      "cell_type": "markdown",
      "metadata": {
        "id": "28KWZ8SPx-Ge"
      },
      "source": [
        "#### Confusion Matrix"
      ]
    },
    {
      "cell_type": "code",
      "execution_count": 22,
      "metadata": {
        "colab": {
          "base_uri": "https://localhost:8080/",
          "height": 143
        },
        "id": "dhDNtYKex-Ge",
        "outputId": "a677c31e-94e3-4ba0-e47b-7e7e2ce135b0"
      },
      "outputs": [
        {
          "output_type": "execute_result",
          "data": {
            "text/plain": [
              "Predicted   Positive (1) Negative (0)\n",
              "Actual                               \n",
              "Positive(1)      TP=75.0     FN=659.0\n",
              "Negative(0)      FP=55.0   TN=70413.0"
            ],
            "text/html": [
              "\n",
              "\n",
              "  <div id=\"df-4bdea8da-2c0b-4550-bc86-ef71cf0cf1bd\">\n",
              "    <div class=\"colab-df-container\">\n",
              "      <div>\n",
              "<style scoped>\n",
              "    .dataframe tbody tr th:only-of-type {\n",
              "        vertical-align: middle;\n",
              "    }\n",
              "\n",
              "    .dataframe tbody tr th {\n",
              "        vertical-align: top;\n",
              "    }\n",
              "\n",
              "    .dataframe thead th {\n",
              "        text-align: right;\n",
              "    }\n",
              "</style>\n",
              "<table border=\"1\" class=\"dataframe\">\n",
              "  <thead>\n",
              "    <tr style=\"text-align: right;\">\n",
              "      <th>Predicted</th>\n",
              "      <th>Positive (1)</th>\n",
              "      <th>Negative (0)</th>\n",
              "    </tr>\n",
              "    <tr>\n",
              "      <th>Actual</th>\n",
              "      <th></th>\n",
              "      <th></th>\n",
              "    </tr>\n",
              "  </thead>\n",
              "  <tbody>\n",
              "    <tr>\n",
              "      <th>Positive(1)</th>\n",
              "      <td>TP=75.0</td>\n",
              "      <td>FN=659.0</td>\n",
              "    </tr>\n",
              "    <tr>\n",
              "      <th>Negative(0)</th>\n",
              "      <td>FP=55.0</td>\n",
              "      <td>TN=70413.0</td>\n",
              "    </tr>\n",
              "  </tbody>\n",
              "</table>\n",
              "</div>\n",
              "      <button class=\"colab-df-convert\" onclick=\"convertToInteractive('df-4bdea8da-2c0b-4550-bc86-ef71cf0cf1bd')\"\n",
              "              title=\"Convert this dataframe to an interactive table.\"\n",
              "              style=\"display:none;\">\n",
              "\n",
              "  <svg xmlns=\"http://www.w3.org/2000/svg\" height=\"24px\"viewBox=\"0 0 24 24\"\n",
              "       width=\"24px\">\n",
              "    <path d=\"M0 0h24v24H0V0z\" fill=\"none\"/>\n",
              "    <path d=\"M18.56 5.44l.94 2.06.94-2.06 2.06-.94-2.06-.94-.94-2.06-.94 2.06-2.06.94zm-11 1L8.5 8.5l.94-2.06 2.06-.94-2.06-.94L8.5 2.5l-.94 2.06-2.06.94zm10 10l.94 2.06.94-2.06 2.06-.94-2.06-.94-.94-2.06-.94 2.06-2.06.94z\"/><path d=\"M17.41 7.96l-1.37-1.37c-.4-.4-.92-.59-1.43-.59-.52 0-1.04.2-1.43.59L10.3 9.45l-7.72 7.72c-.78.78-.78 2.05 0 2.83L4 21.41c.39.39.9.59 1.41.59.51 0 1.02-.2 1.41-.59l7.78-7.78 2.81-2.81c.8-.78.8-2.07 0-2.86zM5.41 20L4 18.59l7.72-7.72 1.47 1.35L5.41 20z\"/>\n",
              "  </svg>\n",
              "      </button>\n",
              "\n",
              "\n",
              "\n",
              "    <div id=\"df-e11cc283-7ba4-4bfc-814c-bfdbb32efb71\">\n",
              "      <button class=\"colab-df-quickchart\" onclick=\"quickchart('df-e11cc283-7ba4-4bfc-814c-bfdbb32efb71')\"\n",
              "              title=\"Suggest charts.\"\n",
              "              style=\"display:none;\">\n",
              "\n",
              "<svg xmlns=\"http://www.w3.org/2000/svg\" height=\"24px\"viewBox=\"0 0 24 24\"\n",
              "     width=\"24px\">\n",
              "    <g>\n",
              "        <path d=\"M19 3H5c-1.1 0-2 .9-2 2v14c0 1.1.9 2 2 2h14c1.1 0 2-.9 2-2V5c0-1.1-.9-2-2-2zM9 17H7v-7h2v7zm4 0h-2V7h2v10zm4 0h-2v-4h2v4z\"/>\n",
              "    </g>\n",
              "</svg>\n",
              "      </button>\n",
              "    </div>\n",
              "\n",
              "<style>\n",
              "  .colab-df-quickchart {\n",
              "    background-color: #E8F0FE;\n",
              "    border: none;\n",
              "    border-radius: 50%;\n",
              "    cursor: pointer;\n",
              "    display: none;\n",
              "    fill: #1967D2;\n",
              "    height: 32px;\n",
              "    padding: 0 0 0 0;\n",
              "    width: 32px;\n",
              "  }\n",
              "\n",
              "  .colab-df-quickchart:hover {\n",
              "    background-color: #E2EBFA;\n",
              "    box-shadow: 0px 1px 2px rgba(60, 64, 67, 0.3), 0px 1px 3px 1px rgba(60, 64, 67, 0.15);\n",
              "    fill: #174EA6;\n",
              "  }\n",
              "\n",
              "  [theme=dark] .colab-df-quickchart {\n",
              "    background-color: #3B4455;\n",
              "    fill: #D2E3FC;\n",
              "  }\n",
              "\n",
              "  [theme=dark] .colab-df-quickchart:hover {\n",
              "    background-color: #434B5C;\n",
              "    box-shadow: 0px 1px 3px 1px rgba(0, 0, 0, 0.15);\n",
              "    filter: drop-shadow(0px 1px 2px rgba(0, 0, 0, 0.3));\n",
              "    fill: #FFFFFF;\n",
              "  }\n",
              "</style>\n",
              "\n",
              "    <script>\n",
              "      async function quickchart(key) {\n",
              "        const containerElement = document.querySelector('#' + key);\n",
              "        const charts = await google.colab.kernel.invokeFunction(\n",
              "            'suggestCharts', [key], {});\n",
              "      }\n",
              "    </script>\n",
              "\n",
              "      <script>\n",
              "\n",
              "function displayQuickchartButton(domScope) {\n",
              "  let quickchartButtonEl =\n",
              "    domScope.querySelector('#df-e11cc283-7ba4-4bfc-814c-bfdbb32efb71 button.colab-df-quickchart');\n",
              "  quickchartButtonEl.style.display =\n",
              "    google.colab.kernel.accessAllowed ? 'block' : 'none';\n",
              "}\n",
              "\n",
              "        displayQuickchartButton(document);\n",
              "      </script>\n",
              "      <style>\n",
              "    .colab-df-container {\n",
              "      display:flex;\n",
              "      flex-wrap:wrap;\n",
              "      gap: 12px;\n",
              "    }\n",
              "\n",
              "    .colab-df-convert {\n",
              "      background-color: #E8F0FE;\n",
              "      border: none;\n",
              "      border-radius: 50%;\n",
              "      cursor: pointer;\n",
              "      display: none;\n",
              "      fill: #1967D2;\n",
              "      height: 32px;\n",
              "      padding: 0 0 0 0;\n",
              "      width: 32px;\n",
              "    }\n",
              "\n",
              "    .colab-df-convert:hover {\n",
              "      background-color: #E2EBFA;\n",
              "      box-shadow: 0px 1px 2px rgba(60, 64, 67, 0.3), 0px 1px 3px 1px rgba(60, 64, 67, 0.15);\n",
              "      fill: #174EA6;\n",
              "    }\n",
              "\n",
              "    [theme=dark] .colab-df-convert {\n",
              "      background-color: #3B4455;\n",
              "      fill: #D2E3FC;\n",
              "    }\n",
              "\n",
              "    [theme=dark] .colab-df-convert:hover {\n",
              "      background-color: #434B5C;\n",
              "      box-shadow: 0px 1px 3px 1px rgba(0, 0, 0, 0.15);\n",
              "      filter: drop-shadow(0px 1px 2px rgba(0, 0, 0, 0.3));\n",
              "      fill: #FFFFFF;\n",
              "    }\n",
              "  </style>\n",
              "\n",
              "      <script>\n",
              "        const buttonEl =\n",
              "          document.querySelector('#df-4bdea8da-2c0b-4550-bc86-ef71cf0cf1bd button.colab-df-convert');\n",
              "        buttonEl.style.display =\n",
              "          google.colab.kernel.accessAllowed ? 'block' : 'none';\n",
              "\n",
              "        async function convertToInteractive(key) {\n",
              "          const element = document.querySelector('#df-4bdea8da-2c0b-4550-bc86-ef71cf0cf1bd');\n",
              "          const dataTable =\n",
              "            await google.colab.kernel.invokeFunction('convertToInteractive',\n",
              "                                                     [key], {});\n",
              "          if (!dataTable) return;\n",
              "\n",
              "          const docLinkHtml = 'Like what you see? Visit the ' +\n",
              "            '<a target=\"_blank\" href=https://colab.research.google.com/notebooks/data_table.ipynb>data table notebook</a>'\n",
              "            + ' to learn more about interactive tables.';\n",
              "          element.innerHTML = '';\n",
              "          dataTable['output_type'] = 'display_data';\n",
              "          await google.colab.output.renderOutput(dataTable, element);\n",
              "          const docLink = document.createElement('div');\n",
              "          docLink.innerHTML = docLinkHtml;\n",
              "          element.appendChild(docLink);\n",
              "        }\n",
              "      </script>\n",
              "    </div>\n",
              "  </div>\n"
            ]
          },
          "metadata": {},
          "execution_count": 22
        }
      ],
      "source": [
        "# Define the confusion matrix data\n",
        "cm_df = pd.DataFrame(\n",
        "    {\n",
        "        \"Positive (1)\": [f\"TP={metrics['tp']}\", f\"FP={metrics['fn']}\"],\n",
        "        \"Negative (0)\": [f\"FN={metrics['fp']}\", f\"TN={metrics['tn']}\"],\n",
        "    },\n",
        "    index=[\"Positive(1)\", \"Negative(0)\"],\n",
        ")\n",
        "cm_df.index.name = \"Actual\"\n",
        "cm_df.columns.name = \"Predicted\"\n",
        "\n",
        "# Show the confusion matrix\n",
        "cm_df"
      ]
    },
    {
      "cell_type": "markdown",
      "metadata": {
        "id": "emTYlk-bx-Gf"
      },
      "source": [
        "#### Classification Report"
      ]
    },
    {
      "cell_type": "code",
      "execution_count": 23,
      "metadata": {
        "colab": {
          "base_uri": "https://localhost:8080/"
        },
        "id": "fz1lNXfOx-Gf",
        "outputId": "337e89fc-09f4-4c68-8dd7-f34d8f476dbd"
      },
      "outputs": [
        {
          "output_type": "stream",
          "name": "stdout",
          "text": [
            "2226/2226 [==============================] - 3s 1ms/step\n",
            "              precision    recall  f1-score   support\n",
            "\n",
            "           0       0.99      1.00      0.99     70468\n",
            "           1       0.58      0.10      0.17       734\n",
            "\n",
            "    accuracy                           0.99     71202\n",
            "   macro avg       0.78      0.55      0.58     71202\n",
            "weighted avg       0.99      0.99      0.99     71202\n",
            "\n"
          ]
        }
      ],
      "source": [
        "# Import the classification_report method from sklearn\n",
        "from sklearn.metrics import classification_report\n",
        "\n",
        "# Predict classes using testing data\n",
        "y_predict_classes = (model.predict(X_test) > 0.5).astype(\"int32\")\n",
        "\n",
        "# Display classification report\n",
        "print(classification_report(y_predict_classes, y_test))"
      ]
    },
    {
      "cell_type": "code",
      "execution_count": null,
      "metadata": {
        "id": "iUiNiB_Gx-Gf"
      },
      "outputs": [],
      "source": []
    }
  ],
  "metadata": {
    "file_extension": ".py",
    "kernelspec": {
      "display_name": "Python 3 (ipykernel)",
      "language": "python",
      "name": "python3"
    },
    "language_info": {
      "codemirror_mode": {
        "name": "ipython",
        "version": 3
      },
      "file_extension": ".py",
      "mimetype": "text/x-python",
      "name": "python",
      "nbconvert_exporter": "python",
      "pygments_lexer": "ipython3",
      "version": "3.8.11"
    },
    "mimetype": "text/x-python",
    "name": "python",
    "npconvert_exporter": "python",
    "pygments_lexer": "ipython3",
    "version": 3,
    "colab": {
      "provenance": [],
      "include_colab_link": true
    }
  },
  "nbformat": 4,
  "nbformat_minor": 0
}